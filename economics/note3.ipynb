{
 "cells": [
  {
   "cell_type": "code",
   "execution_count": 33,
   "metadata": {},
   "outputs": [],
   "source": [
    "from datetime import datetime\n",
    "import pandas as pd"
   ]
  },
  {
   "cell_type": "code",
   "execution_count": 2,
   "metadata": {},
   "outputs": [],
   "source": [
    "now = datetime.now()"
   ]
  },
  {
   "cell_type": "code",
   "execution_count": 3,
   "metadata": {},
   "outputs": [
    {
     "output_type": "execute_result",
     "data": {
      "text/plain": "datetime.datetime(2020, 6, 8, 20, 6, 1, 74708)"
     },
     "metadata": {},
     "execution_count": 3
    }
   ],
   "source": [
    "now"
   ]
  },
  {
   "cell_type": "code",
   "execution_count": 4,
   "metadata": {},
   "outputs": [
    {
     "output_type": "execute_result",
     "data": {
      "text/plain": "(2020, 6, 8)"
     },
     "metadata": {},
     "execution_count": 4
    }
   ],
   "source": [
    "now.year, now.month, now.day"
   ]
  },
  {
   "cell_type": "code",
   "execution_count": 7,
   "metadata": {},
   "outputs": [],
   "source": [
    "delta = datetime(2019, 1, 7) - datetime(2008, 6, 24, 8, 15)"
   ]
  },
  {
   "cell_type": "code",
   "execution_count": 8,
   "metadata": {},
   "outputs": [
    {
     "output_type": "execute_result",
     "data": {
      "text/plain": "datetime.timedelta(days=3848, seconds=56700)"
     },
     "metadata": {},
     "execution_count": 8
    }
   ],
   "source": [
    "delta"
   ]
  },
  {
   "cell_type": "code",
   "execution_count": 9,
   "metadata": {},
   "outputs": [
    {
     "output_type": "execute_result",
     "data": {
      "text/plain": "3848"
     },
     "metadata": {},
     "execution_count": 9
    }
   ],
   "source": [
    "delta.days"
   ]
  },
  {
   "cell_type": "code",
   "execution_count": 10,
   "metadata": {},
   "outputs": [],
   "source": [
    "from datetime import timedelta"
   ]
  },
  {
   "cell_type": "code",
   "execution_count": 11,
   "metadata": {},
   "outputs": [],
   "source": [
    "start = datetime(2011, 1, 7)"
   ]
  },
  {
   "cell_type": "code",
   "execution_count": 12,
   "metadata": {},
   "outputs": [
    {
     "output_type": "execute_result",
     "data": {
      "text/plain": "datetime.datetime(2011, 1, 19, 0, 0)"
     },
     "metadata": {},
     "execution_count": 12
    }
   ],
   "source": [
    " start + timedelta(12)"
   ]
  },
  {
   "cell_type": "code",
   "execution_count": 13,
   "metadata": {},
   "outputs": [
    {
     "output_type": "execute_result",
     "data": {
      "text/plain": "datetime.datetime(2010, 12, 14, 0, 0)"
     },
     "metadata": {},
     "execution_count": 13
    }
   ],
   "source": [
    "start - 2 * timedelta(12)"
   ]
  },
  {
   "cell_type": "code",
   "execution_count": 14,
   "metadata": {},
   "outputs": [],
   "source": [
    "stamp = datetime(2011, 1, 3)"
   ]
  },
  {
   "cell_type": "code",
   "execution_count": 15,
   "metadata": {},
   "outputs": [
    {
     "output_type": "execute_result",
     "data": {
      "text/plain": "'2011-01-03 00:00:00'"
     },
     "metadata": {},
     "execution_count": 15
    }
   ],
   "source": [
    "str(stamp)"
   ]
  },
  {
   "cell_type": "code",
   "execution_count": 21,
   "metadata": {},
   "outputs": [
    {
     "output_type": "execute_result",
     "data": {
      "text/plain": "'2011-01-03-1-01-'"
     },
     "metadata": {},
     "execution_count": 21
    }
   ],
   "source": [
    "stamp.strftime('%Y-%m-%d-%w-%W-%z')"
   ]
  },
  {
   "cell_type": "code",
   "execution_count": 22,
   "metadata": {},
   "outputs": [],
   "source": [
    "value = '2011-01-03'"
   ]
  },
  {
   "cell_type": "code",
   "execution_count": 23,
   "metadata": {},
   "outputs": [
    {
     "output_type": "execute_result",
     "data": {
      "text/plain": "datetime.datetime(2011, 1, 3, 0, 0)"
     },
     "metadata": {},
     "execution_count": 23
    }
   ],
   "source": [
    "datetime.strptime(value, '%Y-%m-%d')"
   ]
  },
  {
   "cell_type": "code",
   "execution_count": 24,
   "metadata": {},
   "outputs": [],
   "source": [
    "datestrs = ['7/6/2011', '8/6/2011']"
   ]
  },
  {
   "cell_type": "code",
   "execution_count": 25,
   "metadata": {},
   "outputs": [
    {
     "output_type": "execute_result",
     "data": {
      "text/plain": "[datetime.datetime(2011, 7, 6, 0, 0), datetime.datetime(2011, 8, 6, 0, 0)]"
     },
     "metadata": {},
     "execution_count": 25
    }
   ],
   "source": [
    "[datetime.strptime(x, '%m/%d/%Y') for x in datestrs]"
   ]
  },
  {
   "cell_type": "code",
   "execution_count": 26,
   "metadata": {},
   "outputs": [],
   "source": [
    "from dateutil.parser import parse"
   ]
  },
  {
   "cell_type": "code",
   "execution_count": 27,
   "metadata": {},
   "outputs": [
    {
     "output_type": "execute_result",
     "data": {
      "text/plain": "datetime.datetime(2011, 1, 3, 0, 0)"
     },
     "metadata": {},
     "execution_count": 27
    }
   ],
   "source": [
    "parse('2011-01-03')"
   ]
  },
  {
   "cell_type": "code",
   "execution_count": 28,
   "metadata": {},
   "outputs": [
    {
     "output_type": "execute_result",
     "data": {
      "text/plain": "datetime.datetime(1997, 1, 31, 22, 45)"
     },
     "metadata": {},
     "execution_count": 28
    }
   ],
   "source": [
    "parse('Jan 31, 1997 10:45 PM')"
   ]
  },
  {
   "cell_type": "code",
   "execution_count": 30,
   "metadata": {},
   "outputs": [
    {
     "output_type": "execute_result",
     "data": {
      "text/plain": "datetime.datetime(2011, 12, 6, 0, 0)"
     },
     "metadata": {},
     "execution_count": 30
    }
   ],
   "source": [
    "parse('6/12/2011', dayfirst=True)"
   ]
  },
  {
   "cell_type": "code",
   "execution_count": 31,
   "metadata": {},
   "outputs": [],
   "source": [
    "datestrs = ['2011-07-06 12:00:00', '2011-08-06 00:00:00']"
   ]
  },
  {
   "cell_type": "code",
   "execution_count": 34,
   "metadata": {},
   "outputs": [
    {
     "output_type": "execute_result",
     "data": {
      "text/plain": "DatetimeIndex(['2011-07-06 12:00:00', '2011-08-06 00:00:00'], dtype='datetime64[ns]', freq=None)"
     },
     "metadata": {},
     "execution_count": 34
    }
   ],
   "source": [
    "pd.to_datetime(datestrs)"
   ]
  },
  {
   "cell_type": "code",
   "execution_count": 37,
   "metadata": {},
   "outputs": [
    {
     "output_type": "execute_result",
     "data": {
      "text/plain": "['2011-07-06 12:00:00', '2011-08-06 00:00:00']"
     },
     "metadata": {},
     "execution_count": 37
    }
   ],
   "source": [
    "datestrs"
   ]
  },
  {
   "cell_type": "code",
   "execution_count": 35,
   "metadata": {},
   "outputs": [],
   "source": [
    "idx = pd.to_datetime(datestrs + [None])"
   ]
  },
  {
   "cell_type": "code",
   "execution_count": 36,
   "metadata": {},
   "outputs": [
    {
     "output_type": "execute_result",
     "data": {
      "text/plain": "DatetimeIndex(['2011-07-06 12:00:00', '2011-08-06 00:00:00', 'NaT'], dtype='datetime64[ns]', freq=None)"
     },
     "metadata": {},
     "execution_count": 36
    }
   ],
   "source": [
    "idx"
   ]
  },
  {
   "cell_type": "code",
   "execution_count": 39,
   "metadata": {},
   "outputs": [],
   "source": [
    " dates = [datetime(2011, 1, 2), datetime(2011, 1, 5),datetime(2011, 1, 7), datetime(2011, 1, 8),\n",
    "datetime(2011, 1, 10), datetime(2011, 1, 12)]"
   ]
  },
  {
   "cell_type": "code",
   "execution_count": 41,
   "metadata": {},
   "outputs": [],
   "source": [
    "import numpy as np\n",
    "ts = pd.Series(np.random.randn(6), index=dates)"
   ]
  },
  {
   "cell_type": "code",
   "execution_count": 42,
   "metadata": {},
   "outputs": [
    {
     "output_type": "execute_result",
     "data": {
      "text/plain": "2011-01-02    0.295212\n2011-01-05   -1.146438\n2011-01-07    0.172782\n2011-01-08    0.579249\n2011-01-10    0.185579\n2011-01-12    0.324566\ndtype: float64"
     },
     "metadata": {},
     "execution_count": 42
    }
   ],
   "source": [
    "ts"
   ]
  },
  {
   "cell_type": "code",
   "execution_count": 43,
   "metadata": {},
   "outputs": [
    {
     "output_type": "execute_result",
     "data": {
      "text/plain": "DatetimeIndex(['2011-01-02', '2011-01-05', '2011-01-07', '2011-01-08',\n               '2011-01-10', '2011-01-12'],\n              dtype='datetime64[ns]', freq=None)"
     },
     "metadata": {},
     "execution_count": 43
    }
   ],
   "source": [
    " ts.index"
   ]
  },
  {
   "cell_type": "code",
   "execution_count": 48,
   "metadata": {},
   "outputs": [
    {
     "output_type": "execute_result",
     "data": {
      "text/plain": "2011-01-02    0.295212\n2011-01-10    0.185579\ndtype: float64"
     },
     "metadata": {},
     "execution_count": 48
    }
   ],
   "source": [
    "ts[::2]"
   ]
  },
  {
   "cell_type": "code",
   "execution_count": 44,
   "metadata": {},
   "outputs": [
    {
     "output_type": "execute_result",
     "data": {
      "text/plain": "2011-01-02    0.590424\n2011-01-05         NaN\n2011-01-07    0.345564\n2011-01-08         NaN\n2011-01-10    0.371158\n2011-01-12         NaN\ndtype: float64"
     },
     "metadata": {},
     "execution_count": 44
    }
   ],
   "source": [
    " ts + ts[::2]"
   ]
  },
  {
   "cell_type": "code",
   "execution_count": 49,
   "metadata": {},
   "outputs": [
    {
     "output_type": "execute_result",
     "data": {
      "text/plain": "dtype('<M8[ns]')"
     },
     "metadata": {},
     "execution_count": 49
    }
   ],
   "source": [
    "ts.index.dtype"
   ]
  },
  {
   "cell_type": "code",
   "execution_count": 51,
   "metadata": {},
   "outputs": [],
   "source": [
    "stamp = ts.index[2]"
   ]
  },
  {
   "cell_type": "code",
   "execution_count": 52,
   "metadata": {},
   "outputs": [
    {
     "output_type": "execute_result",
     "data": {
      "text/plain": "0.17278191566911016"
     },
     "metadata": {},
     "execution_count": 52
    }
   ],
   "source": [
    "ts[stamp]"
   ]
  },
  {
   "cell_type": "code",
   "execution_count": 53,
   "metadata": {},
   "outputs": [],
   "source": [
    "longer_ts = pd.Series(np.random.randn(1000),index=pd.date_range('1/1/2000', periods=1000))"
   ]
  },
  {
   "cell_type": "code",
   "execution_count": 54,
   "metadata": {},
   "outputs": [
    {
     "output_type": "execute_result",
     "data": {
      "text/plain": "2000-01-01   -0.773358\n2000-01-02   -1.640507\n2000-01-03   -0.659399\n2000-01-04    1.855471\n2000-01-05   -0.514212\n                ...   \n2002-09-22    0.598003\n2002-09-23    0.378272\n2002-09-24    0.209328\n2002-09-25   -0.694055\n2002-09-26   -1.206715\nFreq: D, Length: 1000, dtype: float64"
     },
     "metadata": {},
     "execution_count": 54
    }
   ],
   "source": [
    "longer_ts"
   ]
  },
  {
   "cell_type": "code",
   "execution_count": 55,
   "metadata": {},
   "outputs": [
    {
     "output_type": "execute_result",
     "data": {
      "text/plain": "2001-01-01   -0.828435\n2001-01-02   -0.287264\n2001-01-03   -1.721640\n2001-01-04   -1.825831\n2001-01-05    1.344825\n                ...   \n2001-12-27    0.071762\n2001-12-28    0.881095\n2001-12-29    0.358386\n2001-12-30   -0.920571\n2001-12-31   -0.073305\nFreq: D, Length: 365, dtype: float64"
     },
     "metadata": {},
     "execution_count": 55
    }
   ],
   "source": [
    "longer_ts['2001']"
   ]
  },
  {
   "cell_type": "code",
   "execution_count": 56,
   "metadata": {},
   "outputs": [
    {
     "output_type": "execute_result",
     "data": {
      "text/plain": "2001-05-01    0.269788\n2001-05-02   -0.292059\n2001-05-03    1.318797\n2001-05-04    0.136071\n2001-05-05   -0.454297\n2001-05-06   -0.905340\n2001-05-07   -0.711126\n2001-05-08    0.708261\n2001-05-09    1.549528\n2001-05-10   -0.705202\n2001-05-11   -0.359568\n2001-05-12    0.908445\n2001-05-13   -1.009690\n2001-05-14   -0.461009\n2001-05-15   -1.116566\n2001-05-16   -0.412584\n2001-05-17   -0.656427\n2001-05-18   -1.722118\n2001-05-19   -0.596028\n2001-05-20    0.101788\n2001-05-21   -0.064939\n2001-05-22   -0.095351\n2001-05-23   -0.845364\n2001-05-24    0.504882\n2001-05-25    0.497984\n2001-05-26   -0.174535\n2001-05-27    0.447116\n2001-05-28    0.498517\n2001-05-29   -0.446648\n2001-05-30    0.139268\n2001-05-31   -1.024136\nFreq: D, dtype: float64"
     },
     "metadata": {},
     "execution_count": 56
    }
   ],
   "source": [
    "longer_ts['2001-05']"
   ]
  },
  {
   "cell_type": "code",
   "execution_count": 57,
   "metadata": {},
   "outputs": [
    {
     "output_type": "execute_result",
     "data": {
      "text/plain": "2011-01-07    0.172782\n2011-01-08    0.579249\n2011-01-10    0.185579\n2011-01-12    0.324566\ndtype: float64"
     },
     "metadata": {},
     "execution_count": 57
    }
   ],
   "source": [
    "ts[datetime(2011, 1, 7):]"
   ]
  },
  {
   "cell_type": "code",
   "execution_count": 58,
   "metadata": {},
   "outputs": [
    {
     "output_type": "execute_result",
     "data": {
      "text/plain": "2011-01-02    0.295212\n2011-01-05   -1.146438\n2011-01-07    0.172782\n2011-01-08    0.579249\ndtype: float64"
     },
     "metadata": {},
     "execution_count": 58
    }
   ],
   "source": [
    "ts.truncate(after='1/9/2011')"
   ]
  },
  {
   "cell_type": "code",
   "execution_count": 59,
   "metadata": {},
   "outputs": [],
   "source": [
    "dates = pd.date_range('1/1/2000', periods=100, freq='W-WED')"
   ]
  },
  {
   "cell_type": "code",
   "execution_count": 60,
   "metadata": {},
   "outputs": [
    {
     "output_type": "execute_result",
     "data": {
      "text/plain": "DatetimeIndex(['2000-01-05', '2000-01-12', '2000-01-19', '2000-01-26',\n               '2000-02-02', '2000-02-09', '2000-02-16', '2000-02-23',\n               '2000-03-01', '2000-03-08', '2000-03-15', '2000-03-22',\n               '2000-03-29', '2000-04-05', '2000-04-12', '2000-04-19',\n               '2000-04-26', '2000-05-03', '2000-05-10', '2000-05-17',\n               '2000-05-24', '2000-05-31', '2000-06-07', '2000-06-14',\n               '2000-06-21', '2000-06-28', '2000-07-05', '2000-07-12',\n               '2000-07-19', '2000-07-26', '2000-08-02', '2000-08-09',\n               '2000-08-16', '2000-08-23', '2000-08-30', '2000-09-06',\n               '2000-09-13', '2000-09-20', '2000-09-27', '2000-10-04',\n               '2000-10-11', '2000-10-18', '2000-10-25', '2000-11-01',\n               '2000-11-08', '2000-11-15', '2000-11-22', '2000-11-29',\n               '2000-12-06', '2000-12-13', '2000-12-20', '2000-12-27',\n               '2001-01-03', '2001-01-10', '2001-01-17', '2001-01-24',\n               '2001-01-31', '2001-02-07', '2001-02-14', '2001-02-21',\n               '2001-02-28', '2001-03-07', '2001-03-14', '2001-03-21',\n               '2001-03-28', '2001-04-04', '2001-04-11', '2001-04-18',\n               '2001-04-25', '2001-05-02', '2001-05-09', '2001-05-16',\n               '2001-05-23', '2001-05-30', '2001-06-06', '2001-06-13',\n               '2001-06-20', '2001-06-27', '2001-07-04', '2001-07-11',\n               '2001-07-18', '2001-07-25', '2001-08-01', '2001-08-08',\n               '2001-08-15', '2001-08-22', '2001-08-29', '2001-09-05',\n               '2001-09-12', '2001-09-19', '2001-09-26', '2001-10-03',\n               '2001-10-10', '2001-10-17', '2001-10-24', '2001-10-31',\n               '2001-11-07', '2001-11-14', '2001-11-21', '2001-11-28'],\n              dtype='datetime64[ns]', freq='W-WED')"
     },
     "metadata": {},
     "execution_count": 60
    }
   ],
   "source": [
    "dates"
   ]
  },
  {
   "cell_type": "code",
   "execution_count": 61,
   "metadata": {},
   "outputs": [],
   "source": [
    "long_df = pd.DataFrame(np.random.randn(100, 4),\n",
    " index=dates,\n",
    " columns=['Colorado', 'Texas',\n",
    " 'New York', 'Ohio'])"
   ]
  },
  {
   "cell_type": "code",
   "execution_count": 62,
   "metadata": {},
   "outputs": [
    {
     "output_type": "execute_result",
     "data": {
      "text/plain": "            Colorado     Texas  New York      Ohio\n2001-05-02  2.500793  0.412391  1.089396 -1.253425\n2001-05-09  0.715274 -0.509020  0.238268  0.379036\n2001-05-16 -0.822364 -1.693543 -0.633654 -0.328179\n2001-05-23 -1.910755 -0.979861  1.383220 -1.072193\n2001-05-30 -0.109911  0.805574 -1.476698  0.309281",
      "text/html": "<div>\n<style scoped>\n    .dataframe tbody tr th:only-of-type {\n        vertical-align: middle;\n    }\n\n    .dataframe tbody tr th {\n        vertical-align: top;\n    }\n\n    .dataframe thead th {\n        text-align: right;\n    }\n</style>\n<table border=\"1\" class=\"dataframe\">\n  <thead>\n    <tr style=\"text-align: right;\">\n      <th></th>\n      <th>Colorado</th>\n      <th>Texas</th>\n      <th>New York</th>\n      <th>Ohio</th>\n    </tr>\n  </thead>\n  <tbody>\n    <tr>\n      <th>2001-05-02</th>\n      <td>2.500793</td>\n      <td>0.412391</td>\n      <td>1.089396</td>\n      <td>-1.253425</td>\n    </tr>\n    <tr>\n      <th>2001-05-09</th>\n      <td>0.715274</td>\n      <td>-0.509020</td>\n      <td>0.238268</td>\n      <td>0.379036</td>\n    </tr>\n    <tr>\n      <th>2001-05-16</th>\n      <td>-0.822364</td>\n      <td>-1.693543</td>\n      <td>-0.633654</td>\n      <td>-0.328179</td>\n    </tr>\n    <tr>\n      <th>2001-05-23</th>\n      <td>-1.910755</td>\n      <td>-0.979861</td>\n      <td>1.383220</td>\n      <td>-1.072193</td>\n    </tr>\n    <tr>\n      <th>2001-05-30</th>\n      <td>-0.109911</td>\n      <td>0.805574</td>\n      <td>-1.476698</td>\n      <td>0.309281</td>\n    </tr>\n  </tbody>\n</table>\n</div>"
     },
     "metadata": {},
     "execution_count": 62
    }
   ],
   "source": [
    "long_df.loc['5-2001']"
   ]
  },
  {
   "cell_type": "code",
   "execution_count": 63,
   "metadata": {},
   "outputs": [],
   "source": [
    "dates = pd.DatetimeIndex(['1/1/2000', '1/2/2000', '1/2/2000','1/2/2000', '1/3/2000'])"
   ]
  },
  {
   "cell_type": "code",
   "execution_count": 64,
   "metadata": {},
   "outputs": [],
   "source": [
    "dup_ts = pd.Series(np.arange(5), index=dates)"
   ]
  },
  {
   "cell_type": "code",
   "execution_count": 65,
   "metadata": {},
   "outputs": [
    {
     "output_type": "execute_result",
     "data": {
      "text/plain": "2000-01-01    0\n2000-01-02    1\n2000-01-02    2\n2000-01-02    3\n2000-01-03    4\ndtype: int64"
     },
     "metadata": {},
     "execution_count": 65
    }
   ],
   "source": [
    "dup_ts"
   ]
  },
  {
   "cell_type": "code",
   "execution_count": 66,
   "metadata": {},
   "outputs": [
    {
     "output_type": "execute_result",
     "data": {
      "text/plain": "False"
     },
     "metadata": {},
     "execution_count": 66
    }
   ],
   "source": [
    "dup_ts.index.is_unique"
   ]
  },
  {
   "cell_type": "code",
   "execution_count": 67,
   "metadata": {},
   "outputs": [
    {
     "output_type": "execute_result",
     "data": {
      "text/plain": "4"
     },
     "metadata": {},
     "execution_count": 67
    }
   ],
   "source": [
    "dup_ts['1/3/2000']"
   ]
  },
  {
   "cell_type": "code",
   "execution_count": 68,
   "metadata": {},
   "outputs": [
    {
     "output_type": "execute_result",
     "data": {
      "text/plain": "2000-01-02    1\n2000-01-02    2\n2000-01-02    3\ndtype: int64"
     },
     "metadata": {},
     "execution_count": 68
    }
   ],
   "source": [
    "dup_ts['1/2/2000'] "
   ]
  },
  {
   "cell_type": "code",
   "execution_count": 69,
   "metadata": {},
   "outputs": [],
   "source": [
    "grouped = dup_ts.groupby(level=0)"
   ]
  },
  {
   "cell_type": "code",
   "execution_count": 70,
   "metadata": {},
   "outputs": [
    {
     "output_type": "execute_result",
     "data": {
      "text/plain": "2000-01-01    0\n2000-01-02    2\n2000-01-03    4\ndtype: int64"
     },
     "metadata": {},
     "execution_count": 70
    }
   ],
   "source": [
    " grouped.mean()"
   ]
  },
  {
   "cell_type": "code",
   "execution_count": 72,
   "metadata": {},
   "outputs": [
    {
     "output_type": "execute_result",
     "data": {
      "text/plain": "2011-01-02    0.295212\n2011-01-05   -1.146438\n2011-01-07    0.172782\n2011-01-08    0.579249\n2011-01-10    0.185579\n2011-01-12    0.324566\ndtype: float64"
     },
     "metadata": {},
     "execution_count": 72
    }
   ],
   "source": [
    "ts"
   ]
  },
  {
   "cell_type": "code",
   "execution_count": 73,
   "metadata": {},
   "outputs": [],
   "source": [
    "resampler = ts.resample('D')"
   ]
  },
  {
   "cell_type": "code",
   "execution_count": 76,
   "metadata": {},
   "outputs": [],
   "source": [
    "index = pd.date_range('2012-04-01', '2012-06-01')"
   ]
  },
  {
   "cell_type": "code",
   "execution_count": 77,
   "metadata": {},
   "outputs": [
    {
     "output_type": "execute_result",
     "data": {
      "text/plain": "DatetimeIndex(['2012-04-01', '2012-04-02', '2012-04-03', '2012-04-04',\n               '2012-04-05', '2012-04-06', '2012-04-07', '2012-04-08',\n               '2012-04-09', '2012-04-10', '2012-04-11', '2012-04-12',\n               '2012-04-13', '2012-04-14', '2012-04-15', '2012-04-16',\n               '2012-04-17', '2012-04-18', '2012-04-19', '2012-04-20',\n               '2012-04-21', '2012-04-22', '2012-04-23', '2012-04-24',\n               '2012-04-25', '2012-04-26', '2012-04-27', '2012-04-28',\n               '2012-04-29', '2012-04-30', '2012-05-01', '2012-05-02',\n               '2012-05-03', '2012-05-04', '2012-05-05', '2012-05-06',\n               '2012-05-07', '2012-05-08', '2012-05-09', '2012-05-10',\n               '2012-05-11', '2012-05-12', '2012-05-13', '2012-05-14',\n               '2012-05-15', '2012-05-16', '2012-05-17', '2012-05-18',\n               '2012-05-19', '2012-05-20', '2012-05-21', '2012-05-22',\n               '2012-05-23', '2012-05-24', '2012-05-25', '2012-05-26',\n               '2012-05-27', '2012-05-28', '2012-05-29', '2012-05-30',\n               '2012-05-31', '2012-06-01'],\n              dtype='datetime64[ns]', freq='D')"
     },
     "metadata": {},
     "execution_count": 77
    }
   ],
   "source": [
    "index"
   ]
  },
  {
   "cell_type": "code",
   "execution_count": 78,
   "metadata": {},
   "outputs": [
    {
     "output_type": "execute_result",
     "data": {
      "text/plain": "DatetimeIndex(['2012-04-01', '2012-04-02', '2012-04-03', '2012-04-04',\n               '2012-04-05', '2012-04-06', '2012-04-07', '2012-04-08',\n               '2012-04-09', '2012-04-10', '2012-04-11', '2012-04-12',\n               '2012-04-13', '2012-04-14', '2012-04-15', '2012-04-16',\n               '2012-04-17', '2012-04-18', '2012-04-19', '2012-04-20'],\n              dtype='datetime64[ns]', freq='D')"
     },
     "metadata": {},
     "execution_count": 78
    }
   ],
   "source": [
    "pd.date_range(start='2012-04-01', periods=20)"
   ]
  },
  {
   "cell_type": "code",
   "execution_count": 79,
   "metadata": {},
   "outputs": [
    {
     "output_type": "execute_result",
     "data": {
      "text/plain": "DatetimeIndex(['2012-05-13', '2012-05-14', '2012-05-15', '2012-05-16',\n               '2012-05-17', '2012-05-18', '2012-05-19', '2012-05-20',\n               '2012-05-21', '2012-05-22', '2012-05-23', '2012-05-24',\n               '2012-05-25', '2012-05-26', '2012-05-27', '2012-05-28',\n               '2012-05-29', '2012-05-30', '2012-05-31', '2012-06-01'],\n              dtype='datetime64[ns]', freq='D')"
     },
     "metadata": {},
     "execution_count": 79
    }
   ],
   "source": [
    " pd.date_range(end='2012-06-01', periods=20)"
   ]
  },
  {
   "cell_type": "code",
   "execution_count": 82,
   "metadata": {},
   "outputs": [
    {
     "output_type": "execute_result",
     "data": {
      "text/plain": "DatetimeIndex(['2000-01-03', '2000-01-10', '2000-01-17', '2000-01-24',\n               '2000-01-31', '2000-02-07', '2000-02-14', '2000-02-21',\n               '2000-02-28', '2000-03-06',\n               ...\n               '2003-08-25', '2003-09-01', '2003-09-08', '2003-09-15',\n               '2003-09-22', '2003-09-29', '2003-10-06', '2003-10-13',\n               '2003-10-20', '2003-10-27'],\n              dtype='datetime64[ns]', length=200, freq='W-MON')"
     },
     "metadata": {},
     "execution_count": 82
    }
   ],
   "source": [
    "pd.date_range('2000-01-01', periods=200, freq='W-MON')"
   ]
  },
  {
   "cell_type": "code",
   "execution_count": 83,
   "metadata": {},
   "outputs": [
    {
     "output_type": "execute_result",
     "data": {
      "text/plain": "DatetimeIndex(['2012-05-02 12:56:31', '2012-05-03 12:56:31',\n               '2012-05-04 12:56:31', '2012-05-05 12:56:31',\n               '2012-05-06 12:56:31'],\n              dtype='datetime64[ns]', freq='D')"
     },
     "metadata": {},
     "execution_count": 83
    }
   ],
   "source": [
    "pd.date_range('2012-05-02 12:56:31', periods=5)"
   ]
  },
  {
   "cell_type": "code",
   "execution_count": 84,
   "metadata": {},
   "outputs": [
    {
     "output_type": "execute_result",
     "data": {
      "text/plain": "DatetimeIndex(['2012-05-02', '2012-05-03', '2012-05-04', '2012-05-05',\n               '2012-05-06'],\n              dtype='datetime64[ns]', freq='D')"
     },
     "metadata": {},
     "execution_count": 84
    }
   ],
   "source": [
    "pd.date_range('2012-05-02 12:56:31', periods=5, normalize=True)"
   ]
  },
  {
   "cell_type": "code",
   "execution_count": 85,
   "metadata": {},
   "outputs": [],
   "source": [
    "from pandas.tseries.offsets import Hour, Minute"
   ]
  },
  {
   "cell_type": "code",
   "execution_count": 86,
   "metadata": {},
   "outputs": [],
   "source": [
    "hour = Hour()"
   ]
  },
  {
   "cell_type": "code",
   "execution_count": 87,
   "metadata": {},
   "outputs": [
    {
     "output_type": "execute_result",
     "data": {
      "text/plain": "<Hour>"
     },
     "metadata": {},
     "execution_count": 87
    }
   ],
   "source": [
    "hour"
   ]
  },
  {
   "cell_type": "code",
   "execution_count": 88,
   "metadata": {},
   "outputs": [],
   "source": [
    "four_hours = Hour(4)"
   ]
  },
  {
   "cell_type": "code",
   "execution_count": 89,
   "metadata": {},
   "outputs": [
    {
     "output_type": "execute_result",
     "data": {
      "text/plain": "<4 * Hours>"
     },
     "metadata": {},
     "execution_count": 89
    }
   ],
   "source": [
    "four_hours"
   ]
  },
  {
   "cell_type": "code",
   "execution_count": 90,
   "metadata": {},
   "outputs": [
    {
     "output_type": "execute_result",
     "data": {
      "text/plain": "DatetimeIndex(['2000-01-01 00:00:00', '2000-01-01 04:00:00',\n               '2000-01-01 08:00:00', '2000-01-01 12:00:00',\n               '2000-01-01 16:00:00', '2000-01-01 20:00:00',\n               '2000-01-02 00:00:00', '2000-01-02 04:00:00',\n               '2000-01-02 08:00:00', '2000-01-02 12:00:00',\n               '2000-01-02 16:00:00', '2000-01-02 20:00:00',\n               '2000-01-03 00:00:00', '2000-01-03 04:00:00',\n               '2000-01-03 08:00:00', '2000-01-03 12:00:00',\n               '2000-01-03 16:00:00', '2000-01-03 20:00:00'],\n              dtype='datetime64[ns]', freq='4H')"
     },
     "metadata": {},
     "execution_count": 90
    }
   ],
   "source": [
    "pd.date_range('2000-01-01', '2000-01-03 23:59', freq='4h')"
   ]
  },
  {
   "cell_type": "code",
   "execution_count": 91,
   "metadata": {},
   "outputs": [
    {
     "output_type": "execute_result",
     "data": {
      "text/plain": "DatetimeIndex(['2000-01-01 00:00:00', '2000-01-01 01:30:00',\n               '2000-01-01 03:00:00', '2000-01-01 04:30:00',\n               '2000-01-01 06:00:00', '2000-01-01 07:30:00',\n               '2000-01-01 09:00:00', '2000-01-01 10:30:00',\n               '2000-01-01 12:00:00', '2000-01-01 13:30:00'],\n              dtype='datetime64[ns]', freq='90T')"
     },
     "metadata": {},
     "execution_count": 91
    }
   ],
   "source": [
    "pd.date_range('2000-01-01', periods=10, freq='1h30min')"
   ]
  },
  {
   "cell_type": "code",
   "execution_count": 92,
   "metadata": {},
   "outputs": [],
   "source": [
    " rng = pd.date_range('2012-01-01', '2012-09-01', freq='WOM-3FRI')"
   ]
  },
  {
   "cell_type": "code",
   "execution_count": 94,
   "metadata": {},
   "outputs": [
    {
     "output_type": "execute_result",
     "data": {
      "text/plain": "[Timestamp('2012-01-20 00:00:00', freq='WOM-3FRI'),\n Timestamp('2012-02-17 00:00:00', freq='WOM-3FRI'),\n Timestamp('2012-03-16 00:00:00', freq='WOM-3FRI'),\n Timestamp('2012-04-20 00:00:00', freq='WOM-3FRI'),\n Timestamp('2012-05-18 00:00:00', freq='WOM-3FRI'),\n Timestamp('2012-06-15 00:00:00', freq='WOM-3FRI'),\n Timestamp('2012-07-20 00:00:00', freq='WOM-3FRI'),\n Timestamp('2012-08-17 00:00:00', freq='WOM-3FRI')]"
     },
     "metadata": {},
     "execution_count": 94
    }
   ],
   "source": [
    "list(rng)"
   ]
  },
  {
   "cell_type": "code",
   "execution_count": 95,
   "metadata": {},
   "outputs": [],
   "source": [
    "ts = pd.Series(np.random.randn(4),index=pd.date_range('1/1/2000', periods=4, freq='M'))"
   ]
  },
  {
   "cell_type": "code",
   "execution_count": 96,
   "metadata": {},
   "outputs": [
    {
     "output_type": "execute_result",
     "data": {
      "text/plain": "2000-01-31    0.685388\n2000-02-29   -0.660179\n2000-03-31   -0.018036\n2000-04-30    1.296052\nFreq: M, dtype: float64"
     },
     "metadata": {},
     "execution_count": 96
    }
   ],
   "source": [
    "ts"
   ]
  },
  {
   "cell_type": "code",
   "execution_count": 98,
   "metadata": {},
   "outputs": [
    {
     "output_type": "execute_result",
     "data": {
      "text/plain": "2000-01-31         NaN\n2000-02-29         NaN\n2000-03-31    0.685388\n2000-04-30   -0.660179\nFreq: M, dtype: float64"
     },
     "metadata": {},
     "execution_count": 98
    }
   ],
   "source": [
    "ts.shift(2)"
   ]
  },
  {
   "cell_type": "code",
   "execution_count": 99,
   "metadata": {},
   "outputs": [
    {
     "output_type": "execute_result",
     "data": {
      "text/plain": "2000-01-31   -0.018036\n2000-02-29    1.296052\n2000-03-31         NaN\n2000-04-30         NaN\nFreq: M, dtype: float64"
     },
     "metadata": {},
     "execution_count": 99
    }
   ],
   "source": [
    "ts.shift(-2)"
   ]
  },
  {
   "cell_type": "code",
   "execution_count": 100,
   "metadata": {},
   "outputs": [
    {
     "output_type": "execute_result",
     "data": {
      "text/plain": "2000-01-31          NaN\n2000-02-29    -1.963219\n2000-03-31    -0.972680\n2000-04-30   -72.859165\nFreq: M, dtype: float64"
     },
     "metadata": {},
     "execution_count": 100
    }
   ],
   "source": [
    "ts / ts.shift(1) - 1"
   ]
  },
  {
   "cell_type": "code",
   "execution_count": 101,
   "metadata": {},
   "outputs": [
    {
     "output_type": "execute_result",
     "data": {
      "text/plain": "2000-03-31    0.685388\n2000-04-30   -0.660179\n2000-05-31   -0.018036\n2000-06-30    1.296052\nFreq: M, dtype: float64"
     },
     "metadata": {},
     "execution_count": 101
    }
   ],
   "source": [
    "ts.shift(2, freq='M')"
   ]
  },
  {
   "cell_type": "code",
   "execution_count": 102,
   "metadata": {},
   "outputs": [
    {
     "output_type": "execute_result",
     "data": {
      "text/plain": "2000-02-03    0.685388\n2000-03-03   -0.660179\n2000-04-03   -0.018036\n2000-05-03    1.296052\ndtype: float64"
     },
     "metadata": {},
     "execution_count": 102
    }
   ],
   "source": [
    "ts.shift(3, freq='D')"
   ]
  },
  {
   "cell_type": "code",
   "execution_count": 103,
   "metadata": {},
   "outputs": [
    {
     "output_type": "execute_result",
     "data": {
      "text/plain": "Timestamp('2011-11-20 00:00:00')"
     },
     "metadata": {},
     "execution_count": 103
    }
   ],
   "source": [
    " from pandas.tseries.offsets import Day, MonthEnd\n",
    " now = datetime(2011, 11, 17)\n",
    " now + 3 * Day()"
   ]
  },
  {
   "cell_type": "code",
   "execution_count": 104,
   "metadata": {},
   "outputs": [
    {
     "output_type": "execute_result",
     "data": {
      "text/plain": "Timestamp('2011-11-30 00:00:00')"
     },
     "metadata": {},
     "execution_count": 104
    }
   ],
   "source": [
    "now + MonthEnd()"
   ]
  },
  {
   "cell_type": "code",
   "execution_count": 106,
   "metadata": {},
   "outputs": [
    {
     "output_type": "execute_result",
     "data": {
      "text/plain": "datetime.datetime(2011, 11, 17, 0, 0)"
     },
     "metadata": {},
     "execution_count": 106
    }
   ],
   "source": [
    "now"
   ]
  },
  {
   "cell_type": "code",
   "execution_count": 108,
   "metadata": {},
   "outputs": [],
   "source": [
    "offset = MonthEnd()"
   ]
  },
  {
   "cell_type": "code",
   "execution_count": 109,
   "metadata": {},
   "outputs": [
    {
     "output_type": "execute_result",
     "data": {
      "text/plain": "Timestamp('2011-11-30 00:00:00')"
     },
     "metadata": {},
     "execution_count": 109
    }
   ],
   "source": [
    "offset.rollforward(now)\n"
   ]
  },
  {
   "cell_type": "code",
   "execution_count": 110,
   "metadata": {},
   "outputs": [
    {
     "output_type": "execute_result",
     "data": {
      "text/plain": "Timestamp('2011-10-31 00:00:00')"
     },
     "metadata": {},
     "execution_count": 110
    }
   ],
   "source": [
    " offset.rollback(now)"
   ]
  },
  {
   "cell_type": "code",
   "execution_count": 111,
   "metadata": {},
   "outputs": [],
   "source": [
    "ts = pd.Series(np.random.randn(20),index=pd.date_range('1/15/2000', periods=20, freq='4d'))"
   ]
  },
  {
   "cell_type": "code",
   "execution_count": 112,
   "metadata": {},
   "outputs": [
    {
     "output_type": "execute_result",
     "data": {
      "text/plain": "2000-01-15   -0.562741\n2000-01-19    0.657270\n2000-01-23   -1.182243\n2000-01-27   -0.814015\n2000-01-31   -0.348299\n2000-02-04    0.784457\n2000-02-08   -0.019911\n2000-02-12   -0.705128\n2000-02-16   -0.632146\n2000-02-20   -0.306070\n2000-02-24   -0.003071\n2000-02-28   -0.630641\n2000-03-03   -1.502580\n2000-03-07   -0.085485\n2000-03-11    0.226363\n2000-03-15    0.519989\n2000-03-19    0.333367\n2000-03-23    0.772866\n2000-03-27   -0.348007\n2000-03-31    1.947852\nFreq: 4D, dtype: float64"
     },
     "metadata": {},
     "execution_count": 112
    }
   ],
   "source": [
    "ts"
   ]
  },
  {
   "cell_type": "code",
   "execution_count": 113,
   "metadata": {},
   "outputs": [
    {
     "output_type": "execute_result",
     "data": {
      "text/plain": "2000-01-31   -0.450006\n2000-02-29   -0.216073\n2000-03-31    0.233046\ndtype: float64"
     },
     "metadata": {},
     "execution_count": 113
    }
   ],
   "source": [
    "ts.groupby(offset.rollforward).mean()"
   ]
  },
  {
   "cell_type": "code",
   "execution_count": 114,
   "metadata": {},
   "outputs": [],
   "source": [
    "import pytz"
   ]
  },
  {
   "cell_type": "code",
   "execution_count": 116,
   "metadata": {},
   "outputs": [
    {
     "output_type": "execute_result",
     "data": {
      "text/plain": "['US/Eastern', 'US/Hawaii', 'US/Mountain', 'US/Pacific', 'UTC']"
     },
     "metadata": {},
     "execution_count": 116
    }
   ],
   "source": [
    "\n",
    "pytz.common_timezones[-5:]"
   ]
  },
  {
   "cell_type": "code",
   "execution_count": 117,
   "metadata": {},
   "outputs": [],
   "source": [
    "tz = pytz.timezone('America/New_York')"
   ]
  },
  {
   "cell_type": "code",
   "execution_count": null,
   "metadata": {},
   "outputs": [],
   "source": []
  },
  {
   "cell_type": "code",
   "execution_count": null,
   "metadata": {},
   "outputs": [],
   "source": []
  },
  {
   "cell_type": "code",
   "execution_count": null,
   "metadata": {},
   "outputs": [],
   "source": []
  },
  {
   "cell_type": "code",
   "execution_count": null,
   "metadata": {},
   "outputs": [],
   "source": []
  },
  {
   "cell_type": "code",
   "execution_count": null,
   "metadata": {},
   "outputs": [],
   "source": []
  },
  {
   "cell_type": "code",
   "execution_count": null,
   "metadata": {},
   "outputs": [],
   "source": []
  },
  {
   "cell_type": "code",
   "execution_count": null,
   "metadata": {},
   "outputs": [],
   "source": []
  },
  {
   "cell_type": "code",
   "execution_count": null,
   "metadata": {},
   "outputs": [],
   "source": []
  },
  {
   "cell_type": "code",
   "execution_count": null,
   "metadata": {},
   "outputs": [],
   "source": []
  },
  {
   "cell_type": "code",
   "execution_count": null,
   "metadata": {},
   "outputs": [],
   "source": []
  },
  {
   "cell_type": "code",
   "execution_count": null,
   "metadata": {},
   "outputs": [],
   "source": []
  },
  {
   "cell_type": "code",
   "execution_count": null,
   "metadata": {},
   "outputs": [],
   "source": []
  },
  {
   "cell_type": "code",
   "execution_count": null,
   "metadata": {},
   "outputs": [],
   "source": []
  },
  {
   "cell_type": "code",
   "execution_count": null,
   "metadata": {},
   "outputs": [],
   "source": []
  },
  {
   "cell_type": "code",
   "execution_count": null,
   "metadata": {},
   "outputs": [],
   "source": []
  },
  {
   "cell_type": "code",
   "execution_count": null,
   "metadata": {},
   "outputs": [],
   "source": []
  },
  {
   "cell_type": "code",
   "execution_count": null,
   "metadata": {},
   "outputs": [],
   "source": []
  },
  {
   "cell_type": "code",
   "execution_count": null,
   "metadata": {},
   "outputs": [],
   "source": []
  },
  {
   "cell_type": "code",
   "execution_count": null,
   "metadata": {},
   "outputs": [],
   "source": []
  },
  {
   "cell_type": "code",
   "execution_count": null,
   "metadata": {},
   "outputs": [],
   "source": []
  },
  {
   "cell_type": "code",
   "execution_count": null,
   "metadata": {},
   "outputs": [],
   "source": []
  },
  {
   "cell_type": "code",
   "execution_count": null,
   "metadata": {},
   "outputs": [],
   "source": []
  },
  {
   "cell_type": "code",
   "execution_count": null,
   "metadata": {},
   "outputs": [],
   "source": []
  },
  {
   "cell_type": "code",
   "execution_count": null,
   "metadata": {},
   "outputs": [],
   "source": []
  },
  {
   "cell_type": "code",
   "execution_count": null,
   "metadata": {},
   "outputs": [],
   "source": []
  },
  {
   "cell_type": "code",
   "execution_count": null,
   "metadata": {},
   "outputs": [],
   "source": []
  },
  {
   "cell_type": "code",
   "execution_count": null,
   "metadata": {},
   "outputs": [],
   "source": []
  },
  {
   "cell_type": "code",
   "execution_count": null,
   "metadata": {},
   "outputs": [],
   "source": []
  },
  {
   "cell_type": "code",
   "execution_count": null,
   "metadata": {},
   "outputs": [],
   "source": []
  },
  {
   "cell_type": "code",
   "execution_count": null,
   "metadata": {},
   "outputs": [],
   "source": []
  },
  {
   "cell_type": "code",
   "execution_count": null,
   "metadata": {},
   "outputs": [],
   "source": []
  }
 ],
 "metadata": {
  "language_info": {
   "codemirror_mode": {
    "name": "ipython",
    "version": 3
   },
   "file_extension": ".py",
   "mimetype": "text/x-python",
   "name": "python",
   "nbconvert_exporter": "python",
   "pygments_lexer": "ipython3",
   "version": "3.8.3-final"
  },
  "orig_nbformat": 2,
  "kernelspec": {
   "name": "python38364bit6ec04efad75c44eeaf51feb50e663212",
   "display_name": "Python 3.8.3 64-bit"
  }
 },
 "nbformat": 4,
 "nbformat_minor": 2
}