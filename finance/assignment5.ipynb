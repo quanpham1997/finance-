{
 "cells": [
  {
   "attachments": {},
   "cell_type": "markdown",
   "metadata": {},
   "source": [
    "\n",
    "# Estimating the Market Risk of a Stock II - Applied\n",
    "In this walkthrough, you'll learn how to calculate the risk of a multi asset portfolio.\n",
    "\n",
    "Remember that Beta of a stock $j$ is calculated as...\n",
    "$$\\beta_j = \\frac{\\sigma_{r_j,r_m}}{\\sigma_{r_m}^2} \\equiv \\frac{\\frac{1}{n-1}\\sum_{t=1}^n(r_j-E[r_j])(r_m-E[r_m])}{\\frac{1}{n-1}\\sum_{t=1}^n(r_m-E[r_m])^2}\n",
    "$$\n",
    "\n",
    "Where:  \n",
    "$\\sigma_{r_j,r_m} = $ Covariance between $r_j$ and $r_m$  \n",
    "$\\sigma_{r_m}^2 = $ Variance of the market  \n",
    "$r_j = $ Return on a stock $j$  \n",
    "$r_m = $ Return on the market  \n",
    "$E[r_j] = $ Expected Return on a stock $j$  \n",
    "$E[r_m] = $ Expected Return on the market  "
   ]
  },
  {
   "cell_type": "code",
   "execution_count": 18,
   "metadata": {},
   "outputs": [],
   "source": [
    "import pandas as pd\n",
    "import numpy as np\n",
    "from scipy.stats import linregress"
   ]
  },
  {
   "cell_type": "code",
   "execution_count": 25,
   "metadata": {},
   "outputs": [],
   "source": [
    "df = pd.read_csv(\"AAPL_SP_10y.csv\")\n",
    "df.set_index('date', inplace=True)"
   ]
  },
  {
   "cell_type": "code",
   "execution_count": 26,
   "metadata": {},
   "outputs": [],
   "source": [
    "returns_df = df.pct_change(1)"
   ]
  },
  {
   "cell_type": "code",
   "execution_count": 102,
   "metadata": {},
   "outputs": [
    {
     "data": {
      "text/html": [
       "<div>\n",
       "<style scoped>\n",
       "    .dataframe tbody tr th:only-of-type {\n",
       "        vertical-align: middle;\n",
       "    }\n",
       "\n",
       "    .dataframe tbody tr th {\n",
       "        vertical-align: top;\n",
       "    }\n",
       "\n",
       "    .dataframe thead th {\n",
       "        text-align: right;\n",
       "    }\n",
       "</style>\n",
       "<table border=\"1\" class=\"dataframe\">\n",
       "  <thead>\n",
       "    <tr style=\"text-align: right;\">\n",
       "      <th></th>\n",
       "      <th>price_t_AAPL</th>\n",
       "      <th>price_t_SP500</th>\n",
       "    </tr>\n",
       "    <tr>\n",
       "      <th>date</th>\n",
       "      <th></th>\n",
       "      <th></th>\n",
       "    </tr>\n",
       "  </thead>\n",
       "  <tbody>\n",
       "    <tr>\n",
       "      <th>2009-02-02</th>\n",
       "      <td>11.317137</td>\n",
       "      <td>825.440002</td>\n",
       "    </tr>\n",
       "    <tr>\n",
       "      <th>2009-02-03</th>\n",
       "      <td>11.498934</td>\n",
       "      <td>838.510010</td>\n",
       "    </tr>\n",
       "    <tr>\n",
       "      <th>2009-02-04</th>\n",
       "      <td>11.569427</td>\n",
       "      <td>832.229980</td>\n",
       "    </tr>\n",
       "    <tr>\n",
       "      <th>2009-02-05</th>\n",
       "      <td>11.929309</td>\n",
       "      <td>845.849976</td>\n",
       "    </tr>\n",
       "    <tr>\n",
       "      <th>2009-02-06</th>\n",
       "      <td>12.332478</td>\n",
       "      <td>868.599976</td>\n",
       "    </tr>\n",
       "    <tr>\n",
       "      <th>...</th>\n",
       "      <td>...</td>\n",
       "      <td>...</td>\n",
       "    </tr>\n",
       "    <tr>\n",
       "      <th>2019-12-23</th>\n",
       "      <td>282.562683</td>\n",
       "      <td>3224.010010</td>\n",
       "    </tr>\n",
       "    <tr>\n",
       "      <th>2019-12-24</th>\n",
       "      <td>282.831299</td>\n",
       "      <td>3223.379883</td>\n",
       "    </tr>\n",
       "    <tr>\n",
       "      <th>2019-12-26</th>\n",
       "      <td>288.442780</td>\n",
       "      <td>3239.909912</td>\n",
       "    </tr>\n",
       "    <tr>\n",
       "      <th>2019-12-27</th>\n",
       "      <td>288.333313</td>\n",
       "      <td>3240.020020</td>\n",
       "    </tr>\n",
       "    <tr>\n",
       "      <th>2019-12-30</th>\n",
       "      <td>290.044617</td>\n",
       "      <td>3221.290039</td>\n",
       "    </tr>\n",
       "  </tbody>\n",
       "</table>\n",
       "<p>2747 rows × 2 columns</p>\n",
       "</div>"
      ],
      "text/plain": [
       "            price_t_AAPL  price_t_SP500\n",
       "date                                   \n",
       "2009-02-02     11.317137     825.440002\n",
       "2009-02-03     11.498934     838.510010\n",
       "2009-02-04     11.569427     832.229980\n",
       "2009-02-05     11.929309     845.849976\n",
       "2009-02-06     12.332478     868.599976\n",
       "...                  ...            ...\n",
       "2019-12-23    282.562683    3224.010010\n",
       "2019-12-24    282.831299    3223.379883\n",
       "2019-12-26    288.442780    3239.909912\n",
       "2019-12-27    288.333313    3240.020020\n",
       "2019-12-30    290.044617    3221.290039\n",
       "\n",
       "[2747 rows x 2 columns]"
      ]
     },
     "execution_count": 102,
     "metadata": {},
     "output_type": "execute_result"
    }
   ],
   "source": [
    "df"
   ]
  },
  {
   "cell_type": "code",
   "execution_count": 101,
   "metadata": {},
   "outputs": [
    {
     "data": {
      "text/html": [
       "<div>\n",
       "<style scoped>\n",
       "    .dataframe tbody tr th:only-of-type {\n",
       "        vertical-align: middle;\n",
       "    }\n",
       "\n",
       "    .dataframe tbody tr th {\n",
       "        vertical-align: top;\n",
       "    }\n",
       "\n",
       "    .dataframe thead th {\n",
       "        text-align: right;\n",
       "    }\n",
       "</style>\n",
       "<table border=\"1\" class=\"dataframe\">\n",
       "  <thead>\n",
       "    <tr style=\"text-align: right;\">\n",
       "      <th></th>\n",
       "      <th>r_aapl</th>\n",
       "      <th>r_sp500</th>\n",
       "    </tr>\n",
       "    <tr>\n",
       "      <th>date</th>\n",
       "      <th></th>\n",
       "      <th></th>\n",
       "    </tr>\n",
       "  </thead>\n",
       "  <tbody>\n",
       "    <tr>\n",
       "      <th>2009-02-03</th>\n",
       "      <td>0.016064</td>\n",
       "      <td>0.015834</td>\n",
       "    </tr>\n",
       "    <tr>\n",
       "      <th>2009-02-04</th>\n",
       "      <td>0.006130</td>\n",
       "      <td>-0.007490</td>\n",
       "    </tr>\n",
       "    <tr>\n",
       "      <th>2009-02-05</th>\n",
       "      <td>0.031106</td>\n",
       "      <td>0.016366</td>\n",
       "    </tr>\n",
       "    <tr>\n",
       "      <th>2009-02-06</th>\n",
       "      <td>0.033797</td>\n",
       "      <td>0.026896</td>\n",
       "    </tr>\n",
       "    <tr>\n",
       "      <th>2009-02-09</th>\n",
       "      <td>0.027978</td>\n",
       "      <td>0.001485</td>\n",
       "    </tr>\n",
       "    <tr>\n",
       "      <th>...</th>\n",
       "      <td>...</td>\n",
       "      <td>...</td>\n",
       "    </tr>\n",
       "    <tr>\n",
       "      <th>2019-12-23</th>\n",
       "      <td>0.016318</td>\n",
       "      <td>0.000866</td>\n",
       "    </tr>\n",
       "    <tr>\n",
       "      <th>2019-12-24</th>\n",
       "      <td>0.000951</td>\n",
       "      <td>-0.000195</td>\n",
       "    </tr>\n",
       "    <tr>\n",
       "      <th>2019-12-26</th>\n",
       "      <td>0.019840</td>\n",
       "      <td>0.005128</td>\n",
       "    </tr>\n",
       "    <tr>\n",
       "      <th>2019-12-27</th>\n",
       "      <td>-0.000380</td>\n",
       "      <td>0.000034</td>\n",
       "    </tr>\n",
       "    <tr>\n",
       "      <th>2019-12-30</th>\n",
       "      <td>0.005935</td>\n",
       "      <td>-0.005781</td>\n",
       "    </tr>\n",
       "  </tbody>\n",
       "</table>\n",
       "<p>2746 rows × 2 columns</p>\n",
       "</div>"
      ],
      "text/plain": [
       "              r_aapl   r_sp500\n",
       "date                          \n",
       "2009-02-03  0.016064  0.015834\n",
       "2009-02-04  0.006130 -0.007490\n",
       "2009-02-05  0.031106  0.016366\n",
       "2009-02-06  0.033797  0.026896\n",
       "2009-02-09  0.027978  0.001485\n",
       "...              ...       ...\n",
       "2019-12-23  0.016318  0.000866\n",
       "2019-12-24  0.000951 -0.000195\n",
       "2019-12-26  0.019840  0.005128\n",
       "2019-12-27 -0.000380  0.000034\n",
       "2019-12-30  0.005935 -0.005781\n",
       "\n",
       "[2746 rows x 2 columns]"
      ]
     },
     "execution_count": 101,
     "metadata": {},
     "output_type": "execute_result"
    }
   ],
   "source": [
    "returns_df"
   ]
  },
  {
   "cell_type": "code",
   "execution_count": 28,
   "metadata": {},
   "outputs": [],
   "source": [
    "returns_df.dropna(inplace=True)"
   ]
  },
  {
   "cell_type": "code",
   "execution_count": 93,
   "metadata": {},
   "outputs": [],
   "source": [
    "new_col_names = ['r_aapl', 'r_sp500']\n",
    "returns_df.columns = new_col_names"
   ]
  },
  {
   "cell_type": "code",
   "execution_count": 103,
   "metadata": {
    "scrolled": true
   },
   "outputs": [
    {
     "data": {
      "text/html": [
       "<div>\n",
       "<style scoped>\n",
       "    .dataframe tbody tr th:only-of-type {\n",
       "        vertical-align: middle;\n",
       "    }\n",
       "\n",
       "    .dataframe tbody tr th {\n",
       "        vertical-align: top;\n",
       "    }\n",
       "\n",
       "    .dataframe thead th {\n",
       "        text-align: right;\n",
       "    }\n",
       "</style>\n",
       "<table border=\"1\" class=\"dataframe\">\n",
       "  <thead>\n",
       "    <tr style=\"text-align: right;\">\n",
       "      <th></th>\n",
       "      <th>r_aapl</th>\n",
       "      <th>r_sp500</th>\n",
       "    </tr>\n",
       "    <tr>\n",
       "      <th>date</th>\n",
       "      <th></th>\n",
       "      <th></th>\n",
       "    </tr>\n",
       "  </thead>\n",
       "  <tbody>\n",
       "    <tr>\n",
       "      <th>2009-02-03</th>\n",
       "      <td>0.014744</td>\n",
       "      <td>0.015287</td>\n",
       "    </tr>\n",
       "    <tr>\n",
       "      <th>2009-02-04</th>\n",
       "      <td>0.004811</td>\n",
       "      <td>-0.008037</td>\n",
       "    </tr>\n",
       "    <tr>\n",
       "      <th>2009-02-05</th>\n",
       "      <td>0.029787</td>\n",
       "      <td>0.015819</td>\n",
       "    </tr>\n",
       "    <tr>\n",
       "      <th>2009-02-06</th>\n",
       "      <td>0.032477</td>\n",
       "      <td>0.026349</td>\n",
       "    </tr>\n",
       "    <tr>\n",
       "      <th>2009-02-09</th>\n",
       "      <td>0.026659</td>\n",
       "      <td>0.000938</td>\n",
       "    </tr>\n",
       "    <tr>\n",
       "      <th>...</th>\n",
       "      <td>...</td>\n",
       "      <td>...</td>\n",
       "    </tr>\n",
       "    <tr>\n",
       "      <th>2019-12-23</th>\n",
       "      <td>0.014999</td>\n",
       "      <td>0.000319</td>\n",
       "    </tr>\n",
       "    <tr>\n",
       "      <th>2019-12-24</th>\n",
       "      <td>-0.000369</td>\n",
       "      <td>-0.000742</td>\n",
       "    </tr>\n",
       "    <tr>\n",
       "      <th>2019-12-26</th>\n",
       "      <td>0.018521</td>\n",
       "      <td>0.004581</td>\n",
       "    </tr>\n",
       "    <tr>\n",
       "      <th>2019-12-27</th>\n",
       "      <td>-0.001699</td>\n",
       "      <td>-0.000513</td>\n",
       "    </tr>\n",
       "    <tr>\n",
       "      <th>2019-12-30</th>\n",
       "      <td>0.004616</td>\n",
       "      <td>-0.006328</td>\n",
       "    </tr>\n",
       "  </tbody>\n",
       "</table>\n",
       "<p>2746 rows × 2 columns</p>\n",
       "</div>"
      ],
      "text/plain": [
       "              r_aapl   r_sp500\n",
       "date                          \n",
       "2009-02-03  0.014744  0.015287\n",
       "2009-02-04  0.004811 -0.008037\n",
       "2009-02-05  0.029787  0.015819\n",
       "2009-02-06  0.032477  0.026349\n",
       "2009-02-09  0.026659  0.000938\n",
       "...              ...       ...\n",
       "2019-12-23  0.014999  0.000319\n",
       "2019-12-24 -0.000369 -0.000742\n",
       "2019-12-26  0.018521  0.004581\n",
       "2019-12-27 -0.001699 -0.000513\n",
       "2019-12-30  0.004616 -0.006328\n",
       "\n",
       "[2746 rows x 2 columns]"
      ]
     },
     "execution_count": 103,
     "metadata": {},
     "output_type": "execute_result"
    }
   ],
   "source": [
    "deviations = returns_df - returns_df.mean()\n",
    "deviations"
   ]
  },
  {
   "cell_type": "code",
   "execution_count": 32,
   "metadata": {},
   "outputs": [
    {
     "data": {
      "text/plain": [
       "0.01474432402676137"
      ]
     },
     "execution_count": 32,
     "metadata": {},
     "output_type": "execute_result"
    }
   ],
   "source": [
    "# Sanity check\n",
    "# Estimate the deviation of the first observation of APPL\n",
    "returns_df['r_appl'].iloc[0] - returns_df['r_appl'].mean()"
   ]
  },
  {
   "cell_type": "code",
   "execution_count": 85,
   "metadata": {},
   "outputs": [],
   "source": [
    "# Rename columns to better represent the data\n",
    "new_col_names = ['deviations_appl', 'deviations_sp500']\n",
    "deviations.columns = new_col_names"
   ]
  },
  {
   "cell_type": "code",
   "execution_count": 86,
   "metadata": {},
   "outputs": [
    {
     "data": {
      "text/plain": [
       "date\n",
       "2009-02-03    0.000225\n",
       "2009-02-04   -0.000039\n",
       "2009-02-05    0.000471\n",
       "2009-02-06    0.000856\n",
       "2009-02-09    0.000025\n",
       "dtype: float64"
      ]
     },
     "execution_count": 86,
     "metadata": {},
     "output_type": "execute_result"
    }
   ],
   "source": [
    "# Calculate the product of deviations\n",
    "# Note that this will be a pandas Series object, and NOT a pandas Dataframe object.\n",
    "product_deviations = deviations['deviations_appl'] * deviations['deviations_sp500']\n",
    "product_deviations.head()"
   ]
  },
  {
   "cell_type": "code",
   "execution_count": 87,
   "metadata": {},
   "outputs": [
    {
     "data": {
      "text/plain": [
       "0.00010210746024651252"
      ]
     },
     "execution_count": 87,
     "metadata": {},
     "output_type": "execute_result"
    }
   ],
   "source": [
    "# Calculate the covariance as the sum of the product of deviations divided by N-1\n",
    "cov_appl_sp500 = product_deviations.sum() / (len(product_deviations) - 1)\n",
    "cov_appl_sp500"
   ]
  },
  {
   "cell_type": "code",
   "execution_count": 88,
   "metadata": {},
   "outputs": [],
   "source": [
    "var_sp500 = np.var(returns_df['r_sp500'], ddof=1)"
   ]
  },
  {
   "cell_type": "code",
   "execution_count": 89,
   "metadata": {},
   "outputs": [
    {
     "data": {
      "text/plain": [
       "0.00010196082083718508"
      ]
     },
     "execution_count": 89,
     "metadata": {},
     "output_type": "execute_result"
    }
   ],
   "source": [
    "var_sp500"
   ]
  },
  {
   "cell_type": "code",
   "execution_count": 90,
   "metadata": {},
   "outputs": [],
   "source": [
    "beta_appl = cov_appl_sp500 / var_sp500"
   ]
  },
  {
   "cell_type": "code",
   "execution_count": 91,
   "metadata": {},
   "outputs": [
    {
     "data": {
      "text/plain": [
       "1.0014381936916887"
      ]
     },
     "execution_count": 91,
     "metadata": {},
     "output_type": "execute_result"
    }
   ],
   "source": [
    "beta_appl"
   ]
  },
  {
   "cell_type": "code",
   "execution_count": 98,
   "metadata": {},
   "outputs": [
    {
     "data": {
      "text/plain": [
       "0.00010210746024651252"
      ]
     },
     "execution_count": 98,
     "metadata": {},
     "output_type": "execute_result"
    }
   ],
   "source": [
    "np.cov(returns_df['r_sp500'], returns_df['r_aapl'])[0][1]"
   ]
  },
  {
   "cell_type": "code",
   "execution_count": 100,
   "metadata": {},
   "outputs": [
    {
     "data": {
      "text/plain": [
       "LinregressResult(slope=1.0014381936916887, intercept=0.000771754499230783, rvalue=0.6097128420776966, pvalue=2.7248322936079543e-279, stderr=0.024852672107424603)"
      ]
     },
     "execution_count": 100,
     "metadata": {},
     "output_type": "execute_result"
    }
   ],
   "source": [
    "linregress(y=returns_df['r_aapl'], x=returns_df['r_sp500'])"
   ]
  },
  {
   "cell_type": "code",
   "execution_count": 104,
   "metadata": {},
   "outputs": [],
   "source": [
    "def calculateBeta(df, stock, market):\n",
    "\n",
    "    #find the returns of appl and market\n",
    "\n",
    "    df['r_stock'] = df[stock] / df[stock].shift(1) - 1\n",
    "\n",
    "    df['r_market'] = df[market] / df[market].shift(1) - 1\n",
    "\n",
    "   \n",
    "\n",
    "    df['expected_return_stock'] = df['r_stock'].mean()\n",
    "\n",
    "    df['expected_return_market'] = df['r_market'].mean()\n",
    "\n",
    "   \n",
    "\n",
    "    df['deviations'] = (df['r_stock'] - df['expected_return_stock']) * (df['r_market'] - df['expected_return_market'])\n",
    "\n",
    "    sum_deviations = df['deviations'].sum()\n",
    "\n",
    "   \n",
    "\n",
    "    n = len(df['deviations'].dropna())\n",
    "\n",
    "    cov_stock_market = sum_deviations / (n-1)\n",
    "\n",
    "   \n",
    "\n",
    "    df['squared_deviations_market'] = (df['r_market'] - df['expected_return_market'])**2\n",
    "\n",
    "    sum_squared_deviations_market = df['squared_deviations_market'].sum()\n",
    "\n",
    "    var_market = sum_squared_deviations_market / (n-1)\n",
    "\n",
    "    beta_stock = cov_stock_market/ var_market\n",
    "\n",
    "   \n",
    "\n",
    "    return beta_stock\n",
    "\n",
    "\n",
    "\n",
    "\n",
    "#betais 1.037946144051677\n",
    "# price_t_AAPL\tprice_t_SP500"
   ]
  },
  {
   "cell_type": "code",
   "execution_count": 105,
   "metadata": {},
   "outputs": [
    {
     "data": {
      "text/plain": [
       "1.001438193691689"
      ]
     },
     "execution_count": 105,
     "metadata": {},
     "output_type": "execute_result"
    }
   ],
   "source": [
    "calculateBeta(df, 'price_t_AAPL', 'price_t_SP500')\n"
   ]
  },
  {
   "cell_type": "code",
   "execution_count": 162,
   "metadata": {},
   "outputs": [],
   "source": [
    "def read_data(filename_stock ,filename_market):\n",
    "    global df_j \n",
    "    global df_m\n",
    "\n",
    " \n",
    "    df_j = pd.read_csv(filename_stock)\n",
    "    df_j = df[['Date', 'Adj Close']]  # Extract relevant columns only\n",
    "\n",
    "    df_j.rename(\n",
    "        columns={'Date' : 'date', 'Adj Close' : 'price_t'},\n",
    "        inplace=True)  # Rename so it's closer to PEP8 standards\n",
    "    \n",
    "    df_m = pd.read_csv(filename_market)\n",
    "    df_m = df[['Date', 'Adj Close']]  # Extract relevant columns only\n",
    "\n",
    "    df_m.rename(\n",
    "        columns={'Date' : 'date', 'Adj Close' : 'price_t'},\n",
    "        inplace=True)  # Rename so it's closer to PEP8 standards\n",
    "    \n",
    "    \n",
    "    return df_j \n",
    "    return df_m\n",
    "\n",
    "    "
   ]
  },
  {
   "cell_type": "code",
   "execution_count": 163,
   "metadata": {
    "scrolled": false
   },
   "outputs": [
    {
     "name": "stderr",
     "output_type": "stream",
     "text": [
      "/home/junfan/Documents/python/lib/python3.8/site-packages/pandas/core/frame.py:4125: SettingWithCopyWarning: \n",
      "A value is trying to be set on a copy of a slice from a DataFrame\n",
      "\n",
      "See the caveats in the documentation: https://pandas.pydata.org/pandas-docs/stable/user_guide/indexing.html#returning-a-view-versus-a-copy\n",
      "  return super().rename(\n"
     ]
    },
    {
     "data": {
      "text/html": [
       "<div>\n",
       "<style scoped>\n",
       "    .dataframe tbody tr th:only-of-type {\n",
       "        vertical-align: middle;\n",
       "    }\n",
       "\n",
       "    .dataframe tbody tr th {\n",
       "        vertical-align: top;\n",
       "    }\n",
       "\n",
       "    .dataframe thead th {\n",
       "        text-align: right;\n",
       "    }\n",
       "</style>\n",
       "<table border=\"1\" class=\"dataframe\">\n",
       "  <thead>\n",
       "    <tr style=\"text-align: right;\">\n",
       "      <th></th>\n",
       "      <th>date</th>\n",
       "      <th>price_t</th>\n",
       "    </tr>\n",
       "  </thead>\n",
       "  <tbody>\n",
       "    <tr>\n",
       "      <th>0</th>\n",
       "      <td>2009-01-02</td>\n",
       "      <td>11.223147</td>\n",
       "    </tr>\n",
       "    <tr>\n",
       "      <th>1</th>\n",
       "      <td>2009-01-05</td>\n",
       "      <td>11.696809</td>\n",
       "    </tr>\n",
       "    <tr>\n",
       "      <th>2</th>\n",
       "      <td>2009-01-06</td>\n",
       "      <td>11.503882</td>\n",
       "    </tr>\n",
       "    <tr>\n",
       "      <th>3</th>\n",
       "      <td>2009-01-07</td>\n",
       "      <td>11.255305</td>\n",
       "    </tr>\n",
       "    <tr>\n",
       "      <th>4</th>\n",
       "      <td>2009-01-08</td>\n",
       "      <td>11.464305</td>\n",
       "    </tr>\n",
       "    <tr>\n",
       "      <th>...</th>\n",
       "      <td>...</td>\n",
       "      <td>...</td>\n",
       "    </tr>\n",
       "    <tr>\n",
       "      <th>2762</th>\n",
       "      <td>2019-12-23</td>\n",
       "      <td>282.562683</td>\n",
       "    </tr>\n",
       "    <tr>\n",
       "      <th>2763</th>\n",
       "      <td>2019-12-24</td>\n",
       "      <td>282.831299</td>\n",
       "    </tr>\n",
       "    <tr>\n",
       "      <th>2764</th>\n",
       "      <td>2019-12-26</td>\n",
       "      <td>288.442780</td>\n",
       "    </tr>\n",
       "    <tr>\n",
       "      <th>2765</th>\n",
       "      <td>2019-12-27</td>\n",
       "      <td>288.333313</td>\n",
       "    </tr>\n",
       "    <tr>\n",
       "      <th>2766</th>\n",
       "      <td>2019-12-30</td>\n",
       "      <td>290.044617</td>\n",
       "    </tr>\n",
       "  </tbody>\n",
       "</table>\n",
       "<p>2767 rows × 2 columns</p>\n",
       "</div>"
      ],
      "text/plain": [
       "            date     price_t\n",
       "0     2009-01-02   11.223147\n",
       "1     2009-01-05   11.696809\n",
       "2     2009-01-06   11.503882\n",
       "3     2009-01-07   11.255305\n",
       "4     2009-01-08   11.464305\n",
       "...          ...         ...\n",
       "2762  2019-12-23  282.562683\n",
       "2763  2019-12-24  282.831299\n",
       "2764  2019-12-26  288.442780\n",
       "2765  2019-12-27  288.333313\n",
       "2766  2019-12-30  290.044617\n",
       "\n",
       "[2767 rows x 2 columns]"
      ]
     },
     "execution_count": 163,
     "metadata": {},
     "output_type": "execute_result"
    }
   ],
   "source": [
    "read_data('AAPL_10y.csv','SP_10y.csv')\n",
    "\n",
    "df_m\n"
   ]
  },
  {
   "cell_type": "code",
   "execution_count": 164,
   "metadata": {},
   "outputs": [
    {
     "data": {
      "text/html": [
       "<div>\n",
       "<style scoped>\n",
       "    .dataframe tbody tr th:only-of-type {\n",
       "        vertical-align: middle;\n",
       "    }\n",
       "\n",
       "    .dataframe tbody tr th {\n",
       "        vertical-align: top;\n",
       "    }\n",
       "\n",
       "    .dataframe thead th {\n",
       "        text-align: right;\n",
       "    }\n",
       "</style>\n",
       "<table border=\"1\" class=\"dataframe\">\n",
       "  <thead>\n",
       "    <tr style=\"text-align: right;\">\n",
       "      <th></th>\n",
       "      <th>Date</th>\n",
       "      <th>Open</th>\n",
       "      <th>High</th>\n",
       "      <th>Low</th>\n",
       "      <th>Close</th>\n",
       "      <th>Adj Close</th>\n",
       "      <th>Volume</th>\n",
       "    </tr>\n",
       "  </thead>\n",
       "  <tbody>\n",
       "    <tr>\n",
       "      <th>0</th>\n",
       "      <td>2009-02-02</td>\n",
       "      <td>823.090027</td>\n",
       "      <td>830.780029</td>\n",
       "      <td>812.869995</td>\n",
       "      <td>825.440002</td>\n",
       "      <td>825.440002</td>\n",
       "      <td>5673270000</td>\n",
       "    </tr>\n",
       "    <tr>\n",
       "      <th>1</th>\n",
       "      <td>2009-02-03</td>\n",
       "      <td>825.690002</td>\n",
       "      <td>842.599976</td>\n",
       "      <td>821.979980</td>\n",
       "      <td>838.510010</td>\n",
       "      <td>838.510010</td>\n",
       "      <td>5886310000</td>\n",
       "    </tr>\n",
       "    <tr>\n",
       "      <th>2</th>\n",
       "      <td>2009-02-04</td>\n",
       "      <td>837.770020</td>\n",
       "      <td>851.849976</td>\n",
       "      <td>829.179993</td>\n",
       "      <td>832.229980</td>\n",
       "      <td>832.229980</td>\n",
       "      <td>6420450000</td>\n",
       "    </tr>\n",
       "    <tr>\n",
       "      <th>3</th>\n",
       "      <td>2009-02-05</td>\n",
       "      <td>831.750000</td>\n",
       "      <td>850.549988</td>\n",
       "      <td>819.909973</td>\n",
       "      <td>845.849976</td>\n",
       "      <td>845.849976</td>\n",
       "      <td>6624030000</td>\n",
       "    </tr>\n",
       "    <tr>\n",
       "      <th>4</th>\n",
       "      <td>2009-02-06</td>\n",
       "      <td>846.090027</td>\n",
       "      <td>870.750000</td>\n",
       "      <td>845.419983</td>\n",
       "      <td>868.599976</td>\n",
       "      <td>868.599976</td>\n",
       "      <td>6484100000</td>\n",
       "    </tr>\n",
       "    <tr>\n",
       "      <th>...</th>\n",
       "      <td>...</td>\n",
       "      <td>...</td>\n",
       "      <td>...</td>\n",
       "      <td>...</td>\n",
       "      <td>...</td>\n",
       "      <td>...</td>\n",
       "      <td>...</td>\n",
       "    </tr>\n",
       "    <tr>\n",
       "      <th>2742</th>\n",
       "      <td>2019-12-23</td>\n",
       "      <td>3226.050049</td>\n",
       "      <td>3227.780029</td>\n",
       "      <td>3222.300049</td>\n",
       "      <td>3224.010010</td>\n",
       "      <td>3224.010010</td>\n",
       "      <td>3060610000</td>\n",
       "    </tr>\n",
       "    <tr>\n",
       "      <th>2743</th>\n",
       "      <td>2019-12-24</td>\n",
       "      <td>3225.449951</td>\n",
       "      <td>3226.429932</td>\n",
       "      <td>3220.510010</td>\n",
       "      <td>3223.379883</td>\n",
       "      <td>3223.379883</td>\n",
       "      <td>1296540000</td>\n",
       "    </tr>\n",
       "    <tr>\n",
       "      <th>2744</th>\n",
       "      <td>2019-12-26</td>\n",
       "      <td>3227.199951</td>\n",
       "      <td>3240.080078</td>\n",
       "      <td>3227.199951</td>\n",
       "      <td>3239.909912</td>\n",
       "      <td>3239.909912</td>\n",
       "      <td>2160680000</td>\n",
       "    </tr>\n",
       "    <tr>\n",
       "      <th>2745</th>\n",
       "      <td>2019-12-27</td>\n",
       "      <td>3247.229980</td>\n",
       "      <td>3247.929932</td>\n",
       "      <td>3234.370117</td>\n",
       "      <td>3240.020020</td>\n",
       "      <td>3240.020020</td>\n",
       "      <td>2428670000</td>\n",
       "    </tr>\n",
       "    <tr>\n",
       "      <th>2746</th>\n",
       "      <td>2019-12-30</td>\n",
       "      <td>3240.090088</td>\n",
       "      <td>3240.919922</td>\n",
       "      <td>3216.570068</td>\n",
       "      <td>3221.290039</td>\n",
       "      <td>3221.290039</td>\n",
       "      <td>3013290000</td>\n",
       "    </tr>\n",
       "  </tbody>\n",
       "</table>\n",
       "<p>2747 rows × 7 columns</p>\n",
       "</div>"
      ],
      "text/plain": [
       "            Date         Open         High          Low        Close  \\\n",
       "0     2009-02-02   823.090027   830.780029   812.869995   825.440002   \n",
       "1     2009-02-03   825.690002   842.599976   821.979980   838.510010   \n",
       "2     2009-02-04   837.770020   851.849976   829.179993   832.229980   \n",
       "3     2009-02-05   831.750000   850.549988   819.909973   845.849976   \n",
       "4     2009-02-06   846.090027   870.750000   845.419983   868.599976   \n",
       "...          ...          ...          ...          ...          ...   \n",
       "2742  2019-12-23  3226.050049  3227.780029  3222.300049  3224.010010   \n",
       "2743  2019-12-24  3225.449951  3226.429932  3220.510010  3223.379883   \n",
       "2744  2019-12-26  3227.199951  3240.080078  3227.199951  3239.909912   \n",
       "2745  2019-12-27  3247.229980  3247.929932  3234.370117  3240.020020   \n",
       "2746  2019-12-30  3240.090088  3240.919922  3216.570068  3221.290039   \n",
       "\n",
       "        Adj Close      Volume  \n",
       "0      825.440002  5673270000  \n",
       "1      838.510010  5886310000  \n",
       "2      832.229980  6420450000  \n",
       "3      845.849976  6624030000  \n",
       "4      868.599976  6484100000  \n",
       "...           ...         ...  \n",
       "2742  3224.010010  3060610000  \n",
       "2743  3223.379883  1296540000  \n",
       "2744  3239.909912  2160680000  \n",
       "2745  3240.020020  2428670000  \n",
       "2746  3221.290039  3013290000  \n",
       "\n",
       "[2747 rows x 7 columns]"
      ]
     },
     "execution_count": 164,
     "metadata": {},
     "output_type": "execute_result"
    }
   ],
   "source": [
    "pd.read_csv('SP_10y.csv')"
   ]
  },
  {
   "cell_type": "code",
   "execution_count": 157,
   "metadata": {},
   "outputs": [
    {
     "data": {
      "text/html": [
       "<div>\n",
       "<style scoped>\n",
       "    .dataframe tbody tr th:only-of-type {\n",
       "        vertical-align: middle;\n",
       "    }\n",
       "\n",
       "    .dataframe tbody tr th {\n",
       "        vertical-align: top;\n",
       "    }\n",
       "\n",
       "    .dataframe thead th {\n",
       "        text-align: right;\n",
       "    }\n",
       "</style>\n",
       "<table border=\"1\" class=\"dataframe\">\n",
       "  <thead>\n",
       "    <tr style=\"text-align: right;\">\n",
       "      <th></th>\n",
       "      <th>date</th>\n",
       "      <th>price_t</th>\n",
       "    </tr>\n",
       "  </thead>\n",
       "  <tbody>\n",
       "    <tr>\n",
       "      <th>0</th>\n",
       "      <td>2009-01-02</td>\n",
       "      <td>11.223147</td>\n",
       "    </tr>\n",
       "    <tr>\n",
       "      <th>1</th>\n",
       "      <td>2009-01-05</td>\n",
       "      <td>11.696809</td>\n",
       "    </tr>\n",
       "    <tr>\n",
       "      <th>2</th>\n",
       "      <td>2009-01-06</td>\n",
       "      <td>11.503882</td>\n",
       "    </tr>\n",
       "    <tr>\n",
       "      <th>3</th>\n",
       "      <td>2009-01-07</td>\n",
       "      <td>11.255305</td>\n",
       "    </tr>\n",
       "    <tr>\n",
       "      <th>4</th>\n",
       "      <td>2009-01-08</td>\n",
       "      <td>11.464305</td>\n",
       "    </tr>\n",
       "    <tr>\n",
       "      <th>...</th>\n",
       "      <td>...</td>\n",
       "      <td>...</td>\n",
       "    </tr>\n",
       "    <tr>\n",
       "      <th>2762</th>\n",
       "      <td>2019-12-23</td>\n",
       "      <td>282.562683</td>\n",
       "    </tr>\n",
       "    <tr>\n",
       "      <th>2763</th>\n",
       "      <td>2019-12-24</td>\n",
       "      <td>282.831299</td>\n",
       "    </tr>\n",
       "    <tr>\n",
       "      <th>2764</th>\n",
       "      <td>2019-12-26</td>\n",
       "      <td>288.442780</td>\n",
       "    </tr>\n",
       "    <tr>\n",
       "      <th>2765</th>\n",
       "      <td>2019-12-27</td>\n",
       "      <td>288.333313</td>\n",
       "    </tr>\n",
       "    <tr>\n",
       "      <th>2766</th>\n",
       "      <td>2019-12-30</td>\n",
       "      <td>290.044617</td>\n",
       "    </tr>\n",
       "  </tbody>\n",
       "</table>\n",
       "<p>2767 rows × 2 columns</p>\n",
       "</div>"
      ],
      "text/plain": [
       "            date     price_t\n",
       "0     2009-01-02   11.223147\n",
       "1     2009-01-05   11.696809\n",
       "2     2009-01-06   11.503882\n",
       "3     2009-01-07   11.255305\n",
       "4     2009-01-08   11.464305\n",
       "...          ...         ...\n",
       "2762  2019-12-23  282.562683\n",
       "2763  2019-12-24  282.831299\n",
       "2764  2019-12-26  288.442780\n",
       "2765  2019-12-27  288.333313\n",
       "2766  2019-12-30  290.044617\n",
       "\n",
       "[2767 rows x 2 columns]"
      ]
     },
     "execution_count": 157,
     "metadata": {},
     "output_type": "execute_result"
    }
   ],
   "source": [
    "df_m"
   ]
  },
  {
   "cell_type": "code",
   "execution_count": 151,
   "metadata": {},
   "outputs": [
    {
     "data": {
      "text/plain": [
       "<matplotlib.axes._subplots.AxesSubplot at 0x7f3d8b469f70>"
      ]
     },
     "execution_count": 151,
     "metadata": {},
     "output_type": "execute_result"
    },
    {
     "data": {
      "image/png": "[encoded data removed]",
      "text/plain": [
       "<Figure size 432x288 with 1 Axes>"
      ]
     },
     "metadata": {
      "needs_background": "light"
     },
     "output_type": "display_data"
    }
   ],
   "source": [
    "df_j.plot()"
   ]
  },
  {
   "cell_type": "code",
   "execution_count": null,
   "metadata": {},
   "outputs": [],
   "source": []
  }
 ],
 "metadata": {
  "kernelspec": {
   "display_name": "Python 3",
   "language": "python",
   "name": "python3"
  },
  "language_info": {
   "codemirror_mode": {
    "name": "ipython",
    "version": 3
   },
   "file_extension": ".py",
   "mimetype": "text/x-python",
   "name": "python",
   "nbconvert_exporter": "python",
   "pygments_lexer": "ipython3",
   "version": "3.8.2"
  }
 },
 "nbformat": 4,
 "nbformat_minor": 4
}
