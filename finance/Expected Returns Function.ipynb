{
 "cells": [
  {
   "attachments": {
    "Fervent%20Logo%20-%20Video%20Overlay%20%5Bsmall%5D.png": {
     "image/png": "[encoded data removed]"
    }
   },
   "cell_type": "markdown",
   "metadata": {},
   "source": [
    "![Fervent%20Logo%20-%20Video%20Overlay%20%5Bsmall%5D.png](attachment:Fervent%20Logo%20-%20Video%20Overlay%20%5Bsmall%5D.png)\n",
    "# Estimating Expected Returns (Mean) II - Creating a function\n",
    "In this walkthrough, you'll learn how to create a function which calculates the expected return on a stock.\n",
    "\n",
    "You'll be working with the same Facebook stock data, stored in a csv file called `fb_price.csv`\n",
    "\n",
    "In our case, the file is stored in a folder called `data`, which in turn is stored in a master folder called `iapm_python`."
   ]
  },
  {
   "cell_type": "code",
   "execution_count": 2,
   "metadata": {},
   "outputs": [],
   "source": [
    "import pandas as pd"
   ]
  },
  {
   "cell_type": "code",
   "execution_count": 3,
   "metadata": {},
   "outputs": [],
   "source": [
    "data = pd.read_csv(\"fb_price.csv\")"
   ]
  },
  {
   "cell_type": "code",
   "execution_count": 4,
   "metadata": {},
   "outputs": [
    {
     "data": {
      "text/html": [
       "<div>\n",
       "<style scoped>\n",
       "    .dataframe tbody tr th:only-of-type {\n",
       "        vertical-align: middle;\n",
       "    }\n",
       "\n",
       "    .dataframe tbody tr th {\n",
       "        vertical-align: top;\n",
       "    }\n",
       "\n",
       "    .dataframe thead th {\n",
       "        text-align: right;\n",
       "    }\n",
       "</style>\n",
       "<table border=\"1\" class=\"dataframe\">\n",
       "  <thead>\n",
       "    <tr style=\"text-align: right;\">\n",
       "      <th></th>\n",
       "      <th>Date</th>\n",
       "      <th>Open</th>\n",
       "      <th>High</th>\n",
       "      <th>Low</th>\n",
       "      <th>Close</th>\n",
       "      <th>Adj Close</th>\n",
       "      <th>Volume</th>\n",
       "    </tr>\n",
       "  </thead>\n",
       "  <tbody>\n",
       "    <tr>\n",
       "      <th>0</th>\n",
       "      <td>2012-05-18</td>\n",
       "      <td>42.049999</td>\n",
       "      <td>45.000000</td>\n",
       "      <td>38.000000</td>\n",
       "      <td>38.230000</td>\n",
       "      <td>38.230000</td>\n",
       "      <td>573576400</td>\n",
       "    </tr>\n",
       "    <tr>\n",
       "      <th>1</th>\n",
       "      <td>2012-05-21</td>\n",
       "      <td>36.529999</td>\n",
       "      <td>36.660000</td>\n",
       "      <td>33.000000</td>\n",
       "      <td>34.029999</td>\n",
       "      <td>34.029999</td>\n",
       "      <td>168192700</td>\n",
       "    </tr>\n",
       "    <tr>\n",
       "      <th>2</th>\n",
       "      <td>2012-05-22</td>\n",
       "      <td>32.610001</td>\n",
       "      <td>33.590000</td>\n",
       "      <td>30.940001</td>\n",
       "      <td>31.000000</td>\n",
       "      <td>31.000000</td>\n",
       "      <td>101786600</td>\n",
       "    </tr>\n",
       "    <tr>\n",
       "      <th>3</th>\n",
       "      <td>2012-05-23</td>\n",
       "      <td>31.370001</td>\n",
       "      <td>32.500000</td>\n",
       "      <td>31.360001</td>\n",
       "      <td>32.000000</td>\n",
       "      <td>32.000000</td>\n",
       "      <td>73600000</td>\n",
       "    </tr>\n",
       "    <tr>\n",
       "      <th>4</th>\n",
       "      <td>2012-05-24</td>\n",
       "      <td>32.950001</td>\n",
       "      <td>33.209999</td>\n",
       "      <td>31.770000</td>\n",
       "      <td>33.029999</td>\n",
       "      <td>33.029999</td>\n",
       "      <td>50237200</td>\n",
       "    </tr>\n",
       "    <tr>\n",
       "      <th>...</th>\n",
       "      <td>...</td>\n",
       "      <td>...</td>\n",
       "      <td>...</td>\n",
       "      <td>...</td>\n",
       "      <td>...</td>\n",
       "      <td>...</td>\n",
       "      <td>...</td>\n",
       "    </tr>\n",
       "    <tr>\n",
       "      <th>1409</th>\n",
       "      <td>2017-12-22</td>\n",
       "      <td>177.139999</td>\n",
       "      <td>177.529999</td>\n",
       "      <td>176.229996</td>\n",
       "      <td>177.199997</td>\n",
       "      <td>177.199997</td>\n",
       "      <td>8487000</td>\n",
       "    </tr>\n",
       "    <tr>\n",
       "      <th>1410</th>\n",
       "      <td>2017-12-26</td>\n",
       "      <td>176.630005</td>\n",
       "      <td>177.000000</td>\n",
       "      <td>174.669998</td>\n",
       "      <td>175.990005</td>\n",
       "      <td>175.990005</td>\n",
       "      <td>8897300</td>\n",
       "    </tr>\n",
       "    <tr>\n",
       "      <th>1411</th>\n",
       "      <td>2017-12-27</td>\n",
       "      <td>176.550003</td>\n",
       "      <td>178.440002</td>\n",
       "      <td>176.259995</td>\n",
       "      <td>177.619995</td>\n",
       "      <td>177.619995</td>\n",
       "      <td>9496100</td>\n",
       "    </tr>\n",
       "    <tr>\n",
       "      <th>1412</th>\n",
       "      <td>2017-12-28</td>\n",
       "      <td>177.949997</td>\n",
       "      <td>178.940002</td>\n",
       "      <td>177.679993</td>\n",
       "      <td>177.919998</td>\n",
       "      <td>177.919998</td>\n",
       "      <td>12220800</td>\n",
       "    </tr>\n",
       "    <tr>\n",
       "      <th>1413</th>\n",
       "      <td>2017-12-29</td>\n",
       "      <td>178.000000</td>\n",
       "      <td>178.850006</td>\n",
       "      <td>176.460007</td>\n",
       "      <td>176.460007</td>\n",
       "      <td>176.460007</td>\n",
       "      <td>10178700</td>\n",
       "    </tr>\n",
       "  </tbody>\n",
       "</table>\n",
       "<p>1414 rows × 7 columns</p>\n",
       "</div>"
      ],
      "text/plain": [
       "            Date        Open        High         Low       Close   Adj Close  \\\n",
       "0     2012-05-18   42.049999   45.000000   38.000000   38.230000   38.230000   \n",
       "1     2012-05-21   36.529999   36.660000   33.000000   34.029999   34.029999   \n",
       "2     2012-05-22   32.610001   33.590000   30.940001   31.000000   31.000000   \n",
       "3     2012-05-23   31.370001   32.500000   31.360001   32.000000   32.000000   \n",
       "4     2012-05-24   32.950001   33.209999   31.770000   33.029999   33.029999   \n",
       "...          ...         ...         ...         ...         ...         ...   \n",
       "1409  2017-12-22  177.139999  177.529999  176.229996  177.199997  177.199997   \n",
       "1410  2017-12-26  176.630005  177.000000  174.669998  175.990005  175.990005   \n",
       "1411  2017-12-27  176.550003  178.440002  176.259995  177.619995  177.619995   \n",
       "1412  2017-12-28  177.949997  178.940002  177.679993  177.919998  177.919998   \n",
       "1413  2017-12-29  178.000000  178.850006  176.460007  176.460007  176.460007   \n",
       "\n",
       "         Volume  \n",
       "0     573576400  \n",
       "1     168192700  \n",
       "2     101786600  \n",
       "3      73600000  \n",
       "4      50237200  \n",
       "...         ...  \n",
       "1409    8487000  \n",
       "1410    8897300  \n",
       "1411    9496100  \n",
       "1412   12220800  \n",
       "1413   10178700  \n",
       "\n",
       "[1414 rows x 7 columns]"
      ]
     },
     "execution_count": 4,
     "metadata": {},
     "output_type": "execute_result"
    }
   ],
   "source": [
    "data"
   ]
  },
  {
   "cell_type": "code",
   "execution_count": 3,
   "metadata": {
    "collapsed": true
   },
   "outputs": [],
   "source": [
    "# Version 1: Calculates daily Expected Return\n",
    "def getExpectedReturn(df, price_col_name):\n",
    "    \"\"\"\n",
    "    Returns the expected return of a stock given price data.\n",
    "    \"\"\"\n",
    "\n",
    "    # Calculate returns of prices\n",
    "    returns = df[price_col_name].pct_change(1)  # Make sure you don't call this \"return\"!\n",
    "    \n",
    "    # Calculate the expected return using the mean method\n",
    "    expected_return = returns.mean()\n",
    "    \n",
    "    return expected_return"
   ]
  },
  {
   "cell_type": "code",
   "execution_count": 4,
   "metadata": {},
   "outputs": [
    {
     "data": {
      "text/plain": [
       "0.0013494618587500079"
      ]
     },
     "execution_count": 4,
     "metadata": {},
     "output_type": "execute_result"
    }
   ],
   "source": [
    "getExpectedReturn(df=data, price_col_name='Adj Close')"
   ]
  },
  {
   "cell_type": "markdown",
   "metadata": {},
   "source": [
    "<div class=\"alert alert-block alert-info\">\n",
    "<b>Naming Conventions</b>  \n",
    "\n",
    "It can be tempting to use really short variable names, e.g. `er` instead of `expected_return`.  \n",
    "<br>\n",
    "Sometimes it becomes necessary to shorten names, for instance, when equations get really long.  \n",
    "<br>\n",
    "As much as possible though, it's good practice to use names that are easy to read and understand.\n",
    "</div>\n"
   ]
  },
  {
   "cell_type": "code",
   "execution_count": 5,
   "metadata": {
    "collapsed": true
   },
   "outputs": [],
   "source": [
    "# Version 2: Calculates Daily and Annualised Expected Returns,\n",
    "# annualising by the 'crude' or 'sophisticated' method.\n",
    "def getExpectedReturn(df, price_col_name, annualised=True, annualise_method='sophisticated'):\n",
    "    \"\"\"\n",
    "    Returns the expected return of a stock given price data.\n",
    "    \"\"\"\n",
    "\n",
    "    # Calculate returns of prices\n",
    "    returns = df[price_col_name].pct_change(1)\n",
    "    \n",
    "    # Calculate the expected return using the mean method\n",
    "    expected_return_daily = returns.mean()\n",
    "    \n",
    "    if annualised:\n",
    "        if annualise_method == 'sophisticated':\n",
    "            expected_return_annual = ((1 + expected_return_daily) ** 250) - 1\n",
    "        elif annualise_method == 'crude':\n",
    "            # Crude method\n",
    "            expected_return_annual = expected_return_daily * 250\n",
    "\n",
    "        return expected_return_annual\n",
    "    \n",
    "    else:\n",
    "        return expected_return_daily"
   ]
  },
  {
   "cell_type": "code",
   "execution_count": 6,
   "metadata": {},
   "outputs": [
    {
     "data": {
      "text/plain": [
       "0.40093243279785296"
      ]
     },
     "execution_count": 6,
     "metadata": {},
     "output_type": "execute_result"
    }
   ],
   "source": [
    "# Annualised Expected Return (sophisticated method)\n",
    "getExpectedReturn(data, 'Adj Close')"
   ]
  },
  {
   "cell_type": "code",
   "execution_count": 7,
   "metadata": {},
   "outputs": [
    {
     "data": {
      "text/plain": [
       "0.0013494618587500079"
      ]
     },
     "execution_count": 7,
     "metadata": {},
     "output_type": "execute_result"
    }
   ],
   "source": [
    "# Daily expected return\n",
    "getExpectedReturn(data, 'Adj Close', annualised=False)"
   ]
  },
  {
   "cell_type": "code",
   "execution_count": 8,
   "metadata": {},
   "outputs": [
    {
     "data": {
      "text/plain": [
       "0.33736546468750195"
      ]
     },
     "execution_count": 8,
     "metadata": {},
     "output_type": "execute_result"
    }
   ],
   "source": [
    "# Annualised Expected Return (crude method)\n",
    "getExpectedReturn(data, 'Adj Close', annualise_method='crude')"
   ]
  }
 ],
 "metadata": {
  "kernelspec": {
   "display_name": "Python 3",
   "language": "python",
   "name": "python3"
  },
  "language_info": {
   "codemirror_mode": {
    "name": "ipython",
    "version": 3
   },
   "file_extension": ".py",
   "mimetype": "text/x-python",
   "name": "python",
   "nbconvert_exporter": "python",
   "pygments_lexer": "ipython3",
   "version": "3.8.2"
  }
 },
 "nbformat": 4,
 "nbformat_minor": 2
}
