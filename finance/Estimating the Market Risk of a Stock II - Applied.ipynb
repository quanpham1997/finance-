{
 "cells": [
  {
   "attachments": {
    "Fervent%20Logo%20-%20Video%20Overlay%20%5Bsmall%5D.png": {
     "image/png": "[encoded data removed]"
    }
   },
   "cell_type": "markdown",
   "metadata": {},
   "source": [
    "![Fervent%20Logo%20-%20Video%20Overlay%20%5Bsmall%5D.png](attachment:Fervent%20Logo%20-%20Video%20Overlay%20%5Bsmall%5D.png)\n",
    "# Estimating the Market Risk of a Stock II - Applied\n",
    "In this walkthrough, you'll learn how to the risk of a multi asset portfolio.\n",
    "\n",
    "Remember that Beta of a stock $j$ is calculated as...\n",
    "$$\\beta_j = \\frac{\\sigma_{r_j,r_m}}{\\sigma_{r_m}^2} \\equiv \\frac{\\frac{1}{n-1}\\sum_{t=1}^n(r_j-E[r_j])(r_m-E[r_m])}{\\frac{1}{n-1}\\sum_{t=1}^n(r_m-E[r_m])^2}\n",
    "$$\n",
    "\n",
    "Where:  \n",
    "$\\sigma_{r_j,r_m} = $ Covariance between $r_j$ and $r_m$  \n",
    "$\\sigma_{r_m}^2 = $ Variance of the market  \n",
    "$r_j = $ Return on a stock $j$  \n",
    "$r_m = $ Return on the market  \n",
    "$E[r_j] = $ Expected Return on a stock $j$  \n",
    "$E[r_m] = $ Expected Return on the market  "
   ]
  },
  {
   "cell_type": "code",
   "execution_count": 1,
   "metadata": {
    "collapsed": true
   },
   "outputs": [],
   "source": [
    "# Import package dependencies\n",
    "import pandas as pd\n",
    "import numpy as np\n",
    "from scipy.stats import linregress"
   ]
  },
  {
   "cell_type": "code",
   "execution_count": 2,
   "metadata": {
    "collapsed": true
   },
   "outputs": [],
   "source": [
    "# Proxying the 'market' by the S&P500\n",
    "df = pd.read_csv('../data/googl_sp500_price.csv')"
   ]
  },
  {
   "cell_type": "code",
   "execution_count": 3,
   "metadata": {},
   "outputs": [
    {
     "data": {
      "text/html": [
       "<div>\n",
       "<style scoped>\n",
       "    .dataframe tbody tr th:only-of-type {\n",
       "        vertical-align: middle;\n",
       "    }\n",
       "\n",
       "    .dataframe tbody tr th {\n",
       "        vertical-align: top;\n",
       "    }\n",
       "\n",
       "    .dataframe thead th {\n",
       "        text-align: right;\n",
       "    }\n",
       "</style>\n",
       "<table border=\"1\" class=\"dataframe\">\n",
       "  <thead>\n",
       "    <tr style=\"text-align: right;\">\n",
       "      <th></th>\n",
       "      <th>date_gsheets</th>\n",
       "      <th>price_googl</th>\n",
       "      <th>price_sp500</th>\n",
       "    </tr>\n",
       "  </thead>\n",
       "  <tbody>\n",
       "    <tr>\n",
       "      <th>0</th>\n",
       "      <td>01/03/2012 16:00</td>\n",
       "      <td>332.70</td>\n",
       "      <td>1277.06</td>\n",
       "    </tr>\n",
       "    <tr>\n",
       "      <th>1</th>\n",
       "      <td>01/04/2012 16:00</td>\n",
       "      <td>334.14</td>\n",
       "      <td>1277.30</td>\n",
       "    </tr>\n",
       "    <tr>\n",
       "      <th>2</th>\n",
       "      <td>01/05/2012 16:00</td>\n",
       "      <td>329.51</td>\n",
       "      <td>1281.06</td>\n",
       "    </tr>\n",
       "    <tr>\n",
       "      <th>3</th>\n",
       "      <td>01/06/2012 16:00</td>\n",
       "      <td>325.01</td>\n",
       "      <td>1277.81</td>\n",
       "    </tr>\n",
       "    <tr>\n",
       "      <th>4</th>\n",
       "      <td>01/09/2012 16:00</td>\n",
       "      <td>311.23</td>\n",
       "      <td>1280.70</td>\n",
       "    </tr>\n",
       "  </tbody>\n",
       "</table>\n",
       "</div>"
      ],
      "text/plain": [
       "       date_gsheets  price_googl  price_sp500\n",
       "0  01/03/2012 16:00       332.70      1277.06\n",
       "1  01/04/2012 16:00       334.14      1277.30\n",
       "2  01/05/2012 16:00       329.51      1281.06\n",
       "3  01/06/2012 16:00       325.01      1277.81\n",
       "4  01/09/2012 16:00       311.23      1280.70"
      ]
     },
     "execution_count": 3,
     "metadata": {},
     "output_type": "execute_result"
    }
   ],
   "source": [
    "df.head()"
   ]
  },
  {
   "cell_type": "code",
   "execution_count": 4,
   "metadata": {
    "collapsed": true
   },
   "outputs": [],
   "source": [
    "# Set the date column as the index to allow computations for the whole dataframe\n",
    "df.set_index('date_gsheets', inplace=True)"
   ]
  },
  {
   "cell_type": "code",
   "execution_count": 5,
   "metadata": {},
   "outputs": [
    {
     "data": {
      "text/html": [
       "<div>\n",
       "<style scoped>\n",
       "    .dataframe tbody tr th:only-of-type {\n",
       "        vertical-align: middle;\n",
       "    }\n",
       "\n",
       "    .dataframe tbody tr th {\n",
       "        vertical-align: top;\n",
       "    }\n",
       "\n",
       "    .dataframe thead th {\n",
       "        text-align: right;\n",
       "    }\n",
       "</style>\n",
       "<table border=\"1\" class=\"dataframe\">\n",
       "  <thead>\n",
       "    <tr style=\"text-align: right;\">\n",
       "      <th></th>\n",
       "      <th>price_googl</th>\n",
       "      <th>price_sp500</th>\n",
       "    </tr>\n",
       "    <tr>\n",
       "      <th>date_gsheets</th>\n",
       "      <th></th>\n",
       "      <th></th>\n",
       "    </tr>\n",
       "  </thead>\n",
       "  <tbody>\n",
       "    <tr>\n",
       "      <th>01/03/2012 16:00</th>\n",
       "      <td>332.70</td>\n",
       "      <td>1277.06</td>\n",
       "    </tr>\n",
       "    <tr>\n",
       "      <th>01/04/2012 16:00</th>\n",
       "      <td>334.14</td>\n",
       "      <td>1277.30</td>\n",
       "    </tr>\n",
       "    <tr>\n",
       "      <th>01/05/2012 16:00</th>\n",
       "      <td>329.51</td>\n",
       "      <td>1281.06</td>\n",
       "    </tr>\n",
       "    <tr>\n",
       "      <th>01/06/2012 16:00</th>\n",
       "      <td>325.01</td>\n",
       "      <td>1277.81</td>\n",
       "    </tr>\n",
       "    <tr>\n",
       "      <th>01/09/2012 16:00</th>\n",
       "      <td>311.23</td>\n",
       "      <td>1280.70</td>\n",
       "    </tr>\n",
       "  </tbody>\n",
       "</table>\n",
       "</div>"
      ],
      "text/plain": [
       "                  price_googl  price_sp500\n",
       "date_gsheets                              \n",
       "01/03/2012 16:00       332.70      1277.06\n",
       "01/04/2012 16:00       334.14      1277.30\n",
       "01/05/2012 16:00       329.51      1281.06\n",
       "01/06/2012 16:00       325.01      1277.81\n",
       "01/09/2012 16:00       311.23      1280.70"
      ]
     },
     "execution_count": 5,
     "metadata": {},
     "output_type": "execute_result"
    }
   ],
   "source": [
    "df.head()"
   ]
  },
  {
   "cell_type": "code",
   "execution_count": 6,
   "metadata": {
    "collapsed": true
   },
   "outputs": [],
   "source": [
    "# Calculate returns of GOOGL and the S&P500\n",
    "returns_df = df.pct_change(1)"
   ]
  },
  {
   "cell_type": "code",
   "execution_count": 7,
   "metadata": {},
   "outputs": [
    {
     "data": {
      "text/html": [
       "<div>\n",
       "<style scoped>\n",
       "    .dataframe tbody tr th:only-of-type {\n",
       "        vertical-align: middle;\n",
       "    }\n",
       "\n",
       "    .dataframe tbody tr th {\n",
       "        vertical-align: top;\n",
       "    }\n",
       "\n",
       "    .dataframe thead th {\n",
       "        text-align: right;\n",
       "    }\n",
       "</style>\n",
       "<table border=\"1\" class=\"dataframe\">\n",
       "  <thead>\n",
       "    <tr style=\"text-align: right;\">\n",
       "      <th></th>\n",
       "      <th>price_googl</th>\n",
       "      <th>price_sp500</th>\n",
       "    </tr>\n",
       "    <tr>\n",
       "      <th>date_gsheets</th>\n",
       "      <th></th>\n",
       "      <th></th>\n",
       "    </tr>\n",
       "  </thead>\n",
       "  <tbody>\n",
       "    <tr>\n",
       "      <th>01/03/2012 16:00</th>\n",
       "      <td>NaN</td>\n",
       "      <td>NaN</td>\n",
       "    </tr>\n",
       "    <tr>\n",
       "      <th>01/04/2012 16:00</th>\n",
       "      <td>0.004328</td>\n",
       "      <td>0.000188</td>\n",
       "    </tr>\n",
       "    <tr>\n",
       "      <th>01/05/2012 16:00</th>\n",
       "      <td>-0.013856</td>\n",
       "      <td>0.002944</td>\n",
       "    </tr>\n",
       "    <tr>\n",
       "      <th>01/06/2012 16:00</th>\n",
       "      <td>-0.013657</td>\n",
       "      <td>-0.002537</td>\n",
       "    </tr>\n",
       "    <tr>\n",
       "      <th>01/09/2012 16:00</th>\n",
       "      <td>-0.042399</td>\n",
       "      <td>0.002262</td>\n",
       "    </tr>\n",
       "  </tbody>\n",
       "</table>\n",
       "</div>"
      ],
      "text/plain": [
       "                  price_googl  price_sp500\n",
       "date_gsheets                              \n",
       "01/03/2012 16:00          NaN          NaN\n",
       "01/04/2012 16:00     0.004328     0.000188\n",
       "01/05/2012 16:00    -0.013856     0.002944\n",
       "01/06/2012 16:00    -0.013657    -0.002537\n",
       "01/09/2012 16:00    -0.042399     0.002262"
      ]
     },
     "execution_count": 7,
     "metadata": {},
     "output_type": "execute_result"
    }
   ],
   "source": [
    "returns_df.head()"
   ]
  },
  {
   "cell_type": "code",
   "execution_count": 8,
   "metadata": {
    "collapsed": true
   },
   "outputs": [],
   "source": [
    "# Get rid of NaN observations\n",
    "returns_df.dropna(inplace=True)"
   ]
  },
  {
   "cell_type": "code",
   "execution_count": 9,
   "metadata": {},
   "outputs": [
    {
     "data": {
      "text/html": [
       "<div>\n",
       "<style scoped>\n",
       "    .dataframe tbody tr th:only-of-type {\n",
       "        vertical-align: middle;\n",
       "    }\n",
       "\n",
       "    .dataframe tbody tr th {\n",
       "        vertical-align: top;\n",
       "    }\n",
       "\n",
       "    .dataframe thead th {\n",
       "        text-align: right;\n",
       "    }\n",
       "</style>\n",
       "<table border=\"1\" class=\"dataframe\">\n",
       "  <thead>\n",
       "    <tr style=\"text-align: right;\">\n",
       "      <th></th>\n",
       "      <th>price_googl</th>\n",
       "      <th>price_sp500</th>\n",
       "    </tr>\n",
       "    <tr>\n",
       "      <th>date_gsheets</th>\n",
       "      <th></th>\n",
       "      <th></th>\n",
       "    </tr>\n",
       "  </thead>\n",
       "  <tbody>\n",
       "    <tr>\n",
       "      <th>01/04/2012 16:00</th>\n",
       "      <td>0.004328</td>\n",
       "      <td>0.000188</td>\n",
       "    </tr>\n",
       "    <tr>\n",
       "      <th>01/05/2012 16:00</th>\n",
       "      <td>-0.013856</td>\n",
       "      <td>0.002944</td>\n",
       "    </tr>\n",
       "    <tr>\n",
       "      <th>01/06/2012 16:00</th>\n",
       "      <td>-0.013657</td>\n",
       "      <td>-0.002537</td>\n",
       "    </tr>\n",
       "    <tr>\n",
       "      <th>01/09/2012 16:00</th>\n",
       "      <td>-0.042399</td>\n",
       "      <td>0.002262</td>\n",
       "    </tr>\n",
       "    <tr>\n",
       "      <th>01/10/2012 16:00</th>\n",
       "      <td>0.001092</td>\n",
       "      <td>0.008886</td>\n",
       "    </tr>\n",
       "  </tbody>\n",
       "</table>\n",
       "</div>"
      ],
      "text/plain": [
       "                  price_googl  price_sp500\n",
       "date_gsheets                              \n",
       "01/04/2012 16:00     0.004328     0.000188\n",
       "01/05/2012 16:00    -0.013856     0.002944\n",
       "01/06/2012 16:00    -0.013657    -0.002537\n",
       "01/09/2012 16:00    -0.042399     0.002262\n",
       "01/10/2012 16:00     0.001092     0.008886"
      ]
     },
     "execution_count": 9,
     "metadata": {},
     "output_type": "execute_result"
    }
   ],
   "source": [
    "returns_df.head()"
   ]
  },
  {
   "cell_type": "code",
   "execution_count": 10,
   "metadata": {
    "collapsed": true
   },
   "outputs": [],
   "source": [
    "# Rename columns to better represent the data\n",
    "new_col_names = ['r_googl', 'r_sp500']\n",
    "returns_df.columns = new_col_names"
   ]
  },
  {
   "cell_type": "code",
   "execution_count": 11,
   "metadata": {},
   "outputs": [
    {
     "data": {
      "text/html": [
       "<div>\n",
       "<style scoped>\n",
       "    .dataframe tbody tr th:only-of-type {\n",
       "        vertical-align: middle;\n",
       "    }\n",
       "\n",
       "    .dataframe tbody tr th {\n",
       "        vertical-align: top;\n",
       "    }\n",
       "\n",
       "    .dataframe thead th {\n",
       "        text-align: right;\n",
       "    }\n",
       "</style>\n",
       "<table border=\"1\" class=\"dataframe\">\n",
       "  <thead>\n",
       "    <tr style=\"text-align: right;\">\n",
       "      <th></th>\n",
       "      <th>r_googl</th>\n",
       "      <th>r_sp500</th>\n",
       "    </tr>\n",
       "    <tr>\n",
       "      <th>date_gsheets</th>\n",
       "      <th></th>\n",
       "      <th></th>\n",
       "    </tr>\n",
       "  </thead>\n",
       "  <tbody>\n",
       "    <tr>\n",
       "      <th>01/04/2012 16:00</th>\n",
       "      <td>0.004328</td>\n",
       "      <td>0.000188</td>\n",
       "    </tr>\n",
       "    <tr>\n",
       "      <th>01/05/2012 16:00</th>\n",
       "      <td>-0.013856</td>\n",
       "      <td>0.002944</td>\n",
       "    </tr>\n",
       "    <tr>\n",
       "      <th>01/06/2012 16:00</th>\n",
       "      <td>-0.013657</td>\n",
       "      <td>-0.002537</td>\n",
       "    </tr>\n",
       "    <tr>\n",
       "      <th>01/09/2012 16:00</th>\n",
       "      <td>-0.042399</td>\n",
       "      <td>0.002262</td>\n",
       "    </tr>\n",
       "    <tr>\n",
       "      <th>01/10/2012 16:00</th>\n",
       "      <td>0.001092</td>\n",
       "      <td>0.008886</td>\n",
       "    </tr>\n",
       "  </tbody>\n",
       "</table>\n",
       "</div>"
      ],
      "text/plain": [
       "                   r_googl   r_sp500\n",
       "date_gsheets                        \n",
       "01/04/2012 16:00  0.004328  0.000188\n",
       "01/05/2012 16:00 -0.013856  0.002944\n",
       "01/06/2012 16:00 -0.013657 -0.002537\n",
       "01/09/2012 16:00 -0.042399  0.002262\n",
       "01/10/2012 16:00  0.001092  0.008886"
      ]
     },
     "execution_count": 11,
     "metadata": {},
     "output_type": "execute_result"
    }
   ],
   "source": [
    "returns_df.head()"
   ]
  },
  {
   "cell_type": "code",
   "execution_count": 12,
   "metadata": {
    "collapsed": true
   },
   "outputs": [],
   "source": [
    "# Calculate the deviations of each observation for GOOGL and the S&P500\n",
    "deviations = returns_df - returns_df.mean()"
   ]
  },
  {
   "cell_type": "code",
   "execution_count": 13,
   "metadata": {},
   "outputs": [
    {
     "data": {
      "text/html": [
       "<div>\n",
       "<style scoped>\n",
       "    .dataframe tbody tr th:only-of-type {\n",
       "        vertical-align: middle;\n",
       "    }\n",
       "\n",
       "    .dataframe tbody tr th {\n",
       "        vertical-align: top;\n",
       "    }\n",
       "\n",
       "    .dataframe thead th {\n",
       "        text-align: right;\n",
       "    }\n",
       "</style>\n",
       "<table border=\"1\" class=\"dataframe\">\n",
       "  <thead>\n",
       "    <tr style=\"text-align: right;\">\n",
       "      <th></th>\n",
       "      <th>r_googl</th>\n",
       "      <th>r_sp500</th>\n",
       "    </tr>\n",
       "    <tr>\n",
       "      <th>date_gsheets</th>\n",
       "      <th></th>\n",
       "      <th></th>\n",
       "    </tr>\n",
       "  </thead>\n",
       "  <tbody>\n",
       "    <tr>\n",
       "      <th>01/04/2012 16:00</th>\n",
       "      <td>0.003468</td>\n",
       "      <td>-0.000331</td>\n",
       "    </tr>\n",
       "    <tr>\n",
       "      <th>01/05/2012 16:00</th>\n",
       "      <td>-0.014717</td>\n",
       "      <td>0.002425</td>\n",
       "    </tr>\n",
       "    <tr>\n",
       "      <th>01/06/2012 16:00</th>\n",
       "      <td>-0.014517</td>\n",
       "      <td>-0.003056</td>\n",
       "    </tr>\n",
       "    <tr>\n",
       "      <th>01/09/2012 16:00</th>\n",
       "      <td>-0.043259</td>\n",
       "      <td>0.001743</td>\n",
       "    </tr>\n",
       "    <tr>\n",
       "      <th>01/10/2012 16:00</th>\n",
       "      <td>0.000232</td>\n",
       "      <td>0.008367</td>\n",
       "    </tr>\n",
       "  </tbody>\n",
       "</table>\n",
       "</div>"
      ],
      "text/plain": [
       "                   r_googl   r_sp500\n",
       "date_gsheets                        \n",
       "01/04/2012 16:00  0.003468 -0.000331\n",
       "01/05/2012 16:00 -0.014717  0.002425\n",
       "01/06/2012 16:00 -0.014517 -0.003056\n",
       "01/09/2012 16:00 -0.043259  0.001743\n",
       "01/10/2012 16:00  0.000232  0.008367"
      ]
     },
     "execution_count": 13,
     "metadata": {},
     "output_type": "execute_result"
    }
   ],
   "source": [
    "deviations.head()"
   ]
  },
  {
   "cell_type": "code",
   "execution_count": 14,
   "metadata": {},
   "outputs": [
    {
     "data": {
      "text/plain": [
       "0.0034676852055902274"
      ]
     },
     "execution_count": 14,
     "metadata": {},
     "output_type": "execute_result"
    }
   ],
   "source": [
    "# Sanity check\n",
    "# Estimate the deviation of the first observation of GOOGL\n",
    "returns_df['r_googl'].iloc[0] - returns_df['r_googl'].mean()"
   ]
  },
  {
   "cell_type": "code",
   "execution_count": 15,
   "metadata": {
    "collapsed": true
   },
   "outputs": [],
   "source": [
    "# Rename columns to better represent the data\n",
    "new_col_names = ['deviations_googl', 'deviations_sp500']\n",
    "deviations.columns = new_col_names"
   ]
  },
  {
   "cell_type": "code",
   "execution_count": 16,
   "metadata": {},
   "outputs": [
    {
     "data": {
      "text/html": [
       "<div>\n",
       "<style scoped>\n",
       "    .dataframe tbody tr th:only-of-type {\n",
       "        vertical-align: middle;\n",
       "    }\n",
       "\n",
       "    .dataframe tbody tr th {\n",
       "        vertical-align: top;\n",
       "    }\n",
       "\n",
       "    .dataframe thead th {\n",
       "        text-align: right;\n",
       "    }\n",
       "</style>\n",
       "<table border=\"1\" class=\"dataframe\">\n",
       "  <thead>\n",
       "    <tr style=\"text-align: right;\">\n",
       "      <th></th>\n",
       "      <th>deviations_googl</th>\n",
       "      <th>deviations_sp500</th>\n",
       "    </tr>\n",
       "    <tr>\n",
       "      <th>date_gsheets</th>\n",
       "      <th></th>\n",
       "      <th></th>\n",
       "    </tr>\n",
       "  </thead>\n",
       "  <tbody>\n",
       "    <tr>\n",
       "      <th>01/04/2012 16:00</th>\n",
       "      <td>0.003468</td>\n",
       "      <td>-0.000331</td>\n",
       "    </tr>\n",
       "    <tr>\n",
       "      <th>01/05/2012 16:00</th>\n",
       "      <td>-0.014717</td>\n",
       "      <td>0.002425</td>\n",
       "    </tr>\n",
       "    <tr>\n",
       "      <th>01/06/2012 16:00</th>\n",
       "      <td>-0.014517</td>\n",
       "      <td>-0.003056</td>\n",
       "    </tr>\n",
       "    <tr>\n",
       "      <th>01/09/2012 16:00</th>\n",
       "      <td>-0.043259</td>\n",
       "      <td>0.001743</td>\n",
       "    </tr>\n",
       "    <tr>\n",
       "      <th>01/10/2012 16:00</th>\n",
       "      <td>0.000232</td>\n",
       "      <td>0.008367</td>\n",
       "    </tr>\n",
       "  </tbody>\n",
       "</table>\n",
       "</div>"
      ],
      "text/plain": [
       "                  deviations_googl  deviations_sp500\n",
       "date_gsheets                                        \n",
       "01/04/2012 16:00          0.003468         -0.000331\n",
       "01/05/2012 16:00         -0.014717          0.002425\n",
       "01/06/2012 16:00         -0.014517         -0.003056\n",
       "01/09/2012 16:00         -0.043259          0.001743\n",
       "01/10/2012 16:00          0.000232          0.008367"
      ]
     },
     "execution_count": 16,
     "metadata": {},
     "output_type": "execute_result"
    }
   ],
   "source": [
    "deviations.head()"
   ]
  },
  {
   "cell_type": "code",
   "execution_count": 17,
   "metadata": {
    "collapsed": true
   },
   "outputs": [],
   "source": [
    "# Calculate the product of deviations\n",
    "# Note that this will be a pandas Series object, and NOT a pandas Dataframe object.\n",
    "product_deviations = deviations['deviations_googl'] * deviations['deviations_sp500']"
   ]
  },
  {
   "cell_type": "code",
   "execution_count": 18,
   "metadata": {},
   "outputs": [
    {
     "data": {
      "text/plain": [
       "date_gsheets\n",
       "01/04/2012 16:00   -0.000001\n",
       "01/05/2012 16:00   -0.000036\n",
       "01/06/2012 16:00    0.000044\n",
       "01/09/2012 16:00   -0.000075\n",
       "01/10/2012 16:00    0.000002\n",
       "dtype: float64"
      ]
     },
     "execution_count": 18,
     "metadata": {},
     "output_type": "execute_result"
    }
   ],
   "source": [
    "product_deviations.head()"
   ]
  },
  {
   "cell_type": "code",
   "execution_count": 19,
   "metadata": {},
   "outputs": [
    {
     "data": {
      "text/plain": [
       "pandas.core.series.Series"
      ]
     },
     "execution_count": 19,
     "metadata": {},
     "output_type": "execute_result"
    }
   ],
   "source": [
    "type(product_deviations)"
   ]
  },
  {
   "cell_type": "code",
   "execution_count": 20,
   "metadata": {},
   "outputs": [
    {
     "data": {
      "text/plain": [
       "pandas.core.frame.DataFrame"
      ]
     },
     "execution_count": 20,
     "metadata": {},
     "output_type": "execute_result"
    }
   ],
   "source": [
    "type(deviations)"
   ]
  },
  {
   "cell_type": "code",
   "execution_count": 21,
   "metadata": {
    "collapsed": true
   },
   "outputs": [],
   "source": [
    "# Calculate the covariance as the sum of the product of deviations divided by N-1\n",
    "cov_googl_sp500 = product_deviations.sum() / (len(product_deviations) - 1)"
   ]
  },
  {
   "cell_type": "code",
   "execution_count": 22,
   "metadata": {},
   "outputs": [
    {
     "data": {
      "text/plain": [
       "5.916771855624271e-05"
      ]
     },
     "execution_count": 22,
     "metadata": {},
     "output_type": "execute_result"
    }
   ],
   "source": [
    "cov_googl_sp500"
   ]
  },
  {
   "cell_type": "code",
   "execution_count": 23,
   "metadata": {
    "collapsed": true
   },
   "outputs": [],
   "source": [
    "# Estimate the variance of the Market\n",
    "var_sp500 = np.var(returns_df['r_sp500'], ddof=1)"
   ]
  },
  {
   "cell_type": "code",
   "execution_count": 24,
   "metadata": {},
   "outputs": [
    {
     "data": {
      "text/plain": [
       "5.7409308185174766e-05"
      ]
     },
     "execution_count": 24,
     "metadata": {},
     "output_type": "execute_result"
    }
   ],
   "source": [
    "var_sp500"
   ]
  },
  {
   "cell_type": "code",
   "execution_count": 25,
   "metadata": {
    "collapsed": true
   },
   "outputs": [],
   "source": [
    "# Calculate the Beta of GOOGL as the Covariance between GOOGL and S&P500,\n",
    "#       divided by the variance of the S&P500 returns.\n",
    "beta_googl = cov_googl_sp500 / var_sp500"
   ]
  },
  {
   "cell_type": "code",
   "execution_count": 26,
   "metadata": {},
   "outputs": [
    {
     "data": {
      "text/plain": [
       "1.0306293600577132"
      ]
     },
     "execution_count": 26,
     "metadata": {},
     "output_type": "execute_result"
    }
   ],
   "source": [
    "beta_googl"
   ]
  },
  {
   "cell_type": "code",
   "execution_count": 27,
   "metadata": {},
   "outputs": [
    {
     "data": {
      "text/plain": [
       "5.9167718556242696e-05"
      ]
     },
     "execution_count": 27,
     "metadata": {},
     "output_type": "execute_result"
    }
   ],
   "source": [
    "# Alternatively, estimate the covariance using np.cov()\n",
    "# NOTE: np.cov() returns the 'covariance matrix' (aka Variance Covariance Matrix (VCV))\n",
    "# We'll look at the VCV in a lot more detail later in the course.\n",
    "# We can extract the covariance from the VCV using index slicing.\n",
    "# The covariance is at index 1 within the first sublist (which is at index 0).\n",
    "np.cov(returns_df['r_sp500'], returns_df['r_googl'])[0][1]"
   ]
  },
  {
   "cell_type": "code",
   "execution_count": 28,
   "metadata": {},
   "outputs": [
    {
     "data": {
      "text/plain": [
       "LinregressResult(slope=1.030629360057713, intercept=0.00032551171199368515, rvalue=0.5615379258866244, pvalue=5.8242017445554866e-126, stderr=0.03914690681346338)"
      ]
     },
     "execution_count": 28,
     "metadata": {},
     "output_type": "execute_result"
    }
   ],
   "source": [
    "# Alternatively, estimate the Beta of GOOGL using SciPy's linregress method\n",
    "linregress(y=returns_df['r_googl'], x=returns_df['r_sp500'])"
   ]
  },
  {
   "cell_type": "code",
   "execution_count": null,
   "metadata": {
    "collapsed": true
   },
   "outputs": [],
   "source": []
  }
 ],
 "metadata": {
  "kernelspec": {
   "display_name": "Python 3",
   "language": "python",
   "name": "python3"
  },
  "language_info": {
   "codemirror_mode": {
    "name": "ipython",
    "version": 3
   },
   "file_extension": ".py",
   "mimetype": "text/x-python",
   "name": "python",
   "nbconvert_exporter": "python",
   "pygments_lexer": "ipython3",
   "version": "3.8.2"
  }
 },
 "nbformat": 4,
 "nbformat_minor": 2
}
